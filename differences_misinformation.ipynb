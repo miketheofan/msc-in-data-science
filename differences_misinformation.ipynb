{
 "cells": [
  {
   "cell_type": "markdown",
   "metadata": {},
   "source": [
    "# Social Media Sanctions and Misinformation Sharing\n",
    "\n",
    "There has been a lot of discussions on politics and sanctions in social media. Specifically, people with conservative beliefs argue that they are more likely to be sanctioned on social media than those with more liberal beliefs.\n",
    "\n",
    "If this happens, however, that may not necessarily be the result of different policies on behalf of the social media companies. It may simply be that people with conservative beliefs post online more questionable content, and so they are more likely to be sanctioned even with a completely neutral sanction policy.\n",
    "\n",
    "In a [recent analysis in Nature](https://www.nature.com/articles/s41586-024-07942-8), Mohshen Moshel et al. investigated whether social media sanctions are politically biased or they are the result of differences in misinformation sharing between people of different political beliefs. The authors argue that that media sanctions are not politically biased. Social media users with conservative political beliefs are more likely to post questionable or misinformation material, and so they are more likely to be sanctioned. In this assignment, you will follow through some of Moshel et al.'s research.\n",
    "\n",
    "You will use their data, available at [mosleh_et_al_data.csv](mosleh_et_al_data.csv)."
   ]
  },
  {
   "cell_type": "code",
   "execution_count": 51,
   "metadata": {},
   "outputs": [],
   "source": [
    "import pandas as pd\n",
    "from scipy.stats import chi2_contingency, zscore\n",
    "\n",
    "import scipy.stats as stats\n",
    "\n",
    "import seaborn as sns\n",
    "import matplotlib.pyplot as plt\n"
   ]
  },
  {
   "cell_type": "code",
   "execution_count": 7,
   "metadata": {},
   "outputs": [
    {
     "data": {
      "text/html": [
       "<div>\n",
       "<style scoped>\n",
       "    .dataframe tbody tr th:only-of-type {\n",
       "        vertical-align: middle;\n",
       "    }\n",
       "\n",
       "    .dataframe tbody tr th {\n",
       "        vertical-align: top;\n",
       "    }\n",
       "\n",
       "    .dataframe thead th {\n",
       "        text-align: right;\n",
       "    }\n",
       "</style>\n",
       "<table border=\"1\" class=\"dataframe\">\n",
       "  <thead>\n",
       "    <tr style=\"text-align: right;\">\n",
       "      <th></th>\n",
       "      <th>politics_sites2</th>\n",
       "      <th>politics_sites1</th>\n",
       "      <th>politics_followed</th>\n",
       "      <th>lowqual_pr2019_crowd</th>\n",
       "      <th>lowqual_pr2019_fc</th>\n",
       "      <th>lowqual_afm</th>\n",
       "      <th>lowqual_mbfc</th>\n",
       "      <th>lowqual_lasser2019</th>\n",
       "      <th>suspended</th>\n",
       "      <th>politics_hashtag</th>\n",
       "      <th>...</th>\n",
       "      <th>valence_neg</th>\n",
       "      <th>valence_neu</th>\n",
       "      <th>valence_pos</th>\n",
       "      <th>politics_sites2_ideo_std</th>\n",
       "      <th>hashtag_ideo_std</th>\n",
       "      <th>barbera_std</th>\n",
       "      <th>politics_sites1_std</th>\n",
       "      <th>repeated_tweet_count</th>\n",
       "      <th>freq_pr_1h</th>\n",
       "      <th>bad_domain_count</th>\n",
       "    </tr>\n",
       "  </thead>\n",
       "  <tbody>\n",
       "    <tr>\n",
       "      <th>0</th>\n",
       "      <td>-0.231902</td>\n",
       "      <td>-1.168745</td>\n",
       "      <td>-0.080295</td>\n",
       "      <td>0.598883</td>\n",
       "      <td>0.279221</td>\n",
       "      <td>0.185315</td>\n",
       "      <td>0.292807</td>\n",
       "      <td>0.350000</td>\n",
       "      <td>0</td>\n",
       "      <td>0</td>\n",
       "      <td>...</td>\n",
       "      <td>0.109935</td>\n",
       "      <td>0.813230</td>\n",
       "      <td>0.076835</td>\n",
       "      <td>0.274317</td>\n",
       "      <td>0.0</td>\n",
       "      <td>0.909460</td>\n",
       "      <td>69</td>\n",
       "      <td>86.0</td>\n",
       "      <td>30</td>\n",
       "      <td>7</td>\n",
       "    </tr>\n",
       "    <tr>\n",
       "      <th>1</th>\n",
       "      <td>0.405261</td>\n",
       "      <td>1.060905</td>\n",
       "      <td>2.296375</td>\n",
       "      <td>0.774873</td>\n",
       "      <td>0.848639</td>\n",
       "      <td>0.614156</td>\n",
       "      <td>0.513147</td>\n",
       "      <td>0.975087</td>\n",
       "      <td>0</td>\n",
       "      <td>1</td>\n",
       "      <td>...</td>\n",
       "      <td>0.115985</td>\n",
       "      <td>0.793715</td>\n",
       "      <td>0.090250</td>\n",
       "      <td>0.351800</td>\n",
       "      <td>0.0</td>\n",
       "      <td>0.157056</td>\n",
       "      <td>623</td>\n",
       "      <td>133.0</td>\n",
       "      <td>26</td>\n",
       "      <td>20</td>\n",
       "    </tr>\n",
       "    <tr>\n",
       "      <th>2</th>\n",
       "      <td>-0.171067</td>\n",
       "      <td>-0.500076</td>\n",
       "      <td>-2.312730</td>\n",
       "      <td>0.548727</td>\n",
       "      <td>0.242347</td>\n",
       "      <td>0.130950</td>\n",
       "      <td>0.242445</td>\n",
       "      <td>0.300000</td>\n",
       "      <td>0</td>\n",
       "      <td>0</td>\n",
       "      <td>...</td>\n",
       "      <td>0.085765</td>\n",
       "      <td>0.817340</td>\n",
       "      <td>0.096915</td>\n",
       "      <td>0.279591</td>\n",
       "      <td>0.0</td>\n",
       "      <td>0.445349</td>\n",
       "      <td>32</td>\n",
       "      <td>3.0</td>\n",
       "      <td>3</td>\n",
       "      <td>6</td>\n",
       "    </tr>\n",
       "    <tr>\n",
       "      <th>3</th>\n",
       "      <td>-0.085814</td>\n",
       "      <td>-0.748035</td>\n",
       "      <td>-1.507481</td>\n",
       "      <td>0.611501</td>\n",
       "      <td>0.360119</td>\n",
       "      <td>0.180055</td>\n",
       "      <td>0.277793</td>\n",
       "      <td>0.316038</td>\n",
       "      <td>0</td>\n",
       "      <td>0</td>\n",
       "      <td>...</td>\n",
       "      <td>0.108680</td>\n",
       "      <td>0.781135</td>\n",
       "      <td>0.110190</td>\n",
       "      <td>0.290277</td>\n",
       "      <td>0.0</td>\n",
       "      <td>0.256665</td>\n",
       "      <td>55</td>\n",
       "      <td>104.0</td>\n",
       "      <td>29</td>\n",
       "      <td>22</td>\n",
       "    </tr>\n",
       "    <tr>\n",
       "      <th>4</th>\n",
       "      <td>0.595367</td>\n",
       "      <td>1.347730</td>\n",
       "      <td>2.010573</td>\n",
       "      <td>0.700217</td>\n",
       "      <td>0.698661</td>\n",
       "      <td>0.430655</td>\n",
       "      <td>0.554609</td>\n",
       "      <td>0.763889</td>\n",
       "      <td>0</td>\n",
       "      <td>1</td>\n",
       "      <td>...</td>\n",
       "      <td>0.065145</td>\n",
       "      <td>0.860550</td>\n",
       "      <td>0.074320</td>\n",
       "      <td>0.300823</td>\n",
       "      <td>0.0</td>\n",
       "      <td>0.431149</td>\n",
       "      <td>37</td>\n",
       "      <td>36.0</td>\n",
       "      <td>8</td>\n",
       "      <td>8</td>\n",
       "    </tr>\n",
       "  </tbody>\n",
       "</table>\n",
       "<p>5 rows × 42 columns</p>\n",
       "</div>"
      ],
      "text/plain": [
       "   politics_sites2  politics_sites1  politics_followed  lowqual_pr2019_crowd  \\\n",
       "0        -0.231902        -1.168745          -0.080295              0.598883   \n",
       "1         0.405261         1.060905           2.296375              0.774873   \n",
       "2        -0.171067        -0.500076          -2.312730              0.548727   \n",
       "3        -0.085814        -0.748035          -1.507481              0.611501   \n",
       "4         0.595367         1.347730           2.010573              0.700217   \n",
       "\n",
       "   lowqual_pr2019_fc  lowqual_afm  lowqual_mbfc  lowqual_lasser2019  \\\n",
       "0           0.279221     0.185315      0.292807            0.350000   \n",
       "1           0.848639     0.614156      0.513147            0.975087   \n",
       "2           0.242347     0.130950      0.242445            0.300000   \n",
       "3           0.360119     0.180055      0.277793            0.316038   \n",
       "4           0.698661     0.430655      0.554609            0.763889   \n",
       "\n",
       "   suspended  politics_hashtag  ...  valence_neg  valence_neu  valence_pos  \\\n",
       "0          0                 0  ...     0.109935     0.813230     0.076835   \n",
       "1          0                 1  ...     0.115985     0.793715     0.090250   \n",
       "2          0                 0  ...     0.085765     0.817340     0.096915   \n",
       "3          0                 0  ...     0.108680     0.781135     0.110190   \n",
       "4          0                 1  ...     0.065145     0.860550     0.074320   \n",
       "\n",
       "   politics_sites2_ideo_std  hashtag_ideo_std  barbera_std  \\\n",
       "0                  0.274317               0.0     0.909460   \n",
       "1                  0.351800               0.0     0.157056   \n",
       "2                  0.279591               0.0     0.445349   \n",
       "3                  0.290277               0.0     0.256665   \n",
       "4                  0.300823               0.0     0.431149   \n",
       "\n",
       "   politics_sites1_std  repeated_tweet_count  freq_pr_1h  bad_domain_count  \n",
       "0                   69                  86.0          30                 7  \n",
       "1                  623                 133.0          26                20  \n",
       "2                   32                   3.0           3                 6  \n",
       "3                   55                 104.0          29                22  \n",
       "4                   37                  36.0           8                 8  \n",
       "\n",
       "[5 rows x 42 columns]"
      ]
     },
     "execution_count": 7,
     "metadata": {},
     "output_type": "execute_result"
    }
   ],
   "source": [
    "data = pd.read_csv('mosleh_et_al_data.csv')\n",
    "data.head()"
   ]
  },
  {
   "cell_type": "markdown",
   "metadata": {},
   "source": [
    "## Data Cleaning"
   ]
  },
  {
   "cell_type": "code",
   "execution_count": 44,
   "metadata": {},
   "outputs": [
    {
     "name": "stdout",
     "output_type": "stream",
     "text": [
      "<class 'pandas.core.frame.DataFrame'>\n",
      "RangeIndex: 9000 entries, 0 to 8999\n",
      "Data columns (total 42 columns):\n",
      " #   Column                     Non-Null Count  Dtype  \n",
      "---  ------                     --------------  -----  \n",
      " 0   politics_sites2            9000 non-null   float64\n",
      " 1   politics_sites1            9000 non-null   float64\n",
      " 2   politics_followed          7965 non-null   float64\n",
      " 3   lowqual_pr2019_crowd       8945 non-null   float64\n",
      " 4   lowqual_pr2019_fc          8945 non-null   float64\n",
      " 5   lowqual_afm                8998 non-null   float64\n",
      " 6   lowqual_mbfc               8999 non-null   float64\n",
      " 7   lowqual_lasser2019         8999 non-null   float64\n",
      " 8   suspended                  9000 non-null   int64  \n",
      " 9   politics_hashtag           9000 non-null   int64  \n",
      " 10  lowqual_pr2019_crowdrep    8945 non-null   float64\n",
      " 11  num_followers              9000 non-null   int64  \n",
      " 12  num_friends                9000 non-null   int64  \n",
      " 13  tweets_in_2wk              9000 non-null   int64  \n",
      " 14  botsentinel_score          8978 non-null   float64\n",
      " 15  rewire_abuse               8974 non-null   float64\n",
      " 16  rewire_hate                8974 non-null   float64\n",
      " 17  rewire_profanity           8974 non-null   float64\n",
      " 18  rewire_violent             8974 non-null   float64\n",
      " 19  rewire_sexually_explicit   8974 non-null   float64\n",
      " 20  jigsaw_toxicity            8974 non-null   float64\n",
      " 21  jigsaw_severe_toxicity     8974 non-null   float64\n",
      " 22  jigsaw_idenity_attack      8974 non-null   float64\n",
      " 23  jigsaw_insult              8974 non-null   float64\n",
      " 24  jigsaw_profanity           8974 non-null   float64\n",
      " 25  jigsaw_threat              8974 non-null   float64\n",
      " 26  rocklage_valence_std       8829 non-null   float64\n",
      " 27  rocklage_extremity_std     8829 non-null   float64\n",
      " 28  rocklage_emotionality_std  8830 non-null   float64\n",
      " 29  rocklage_certainty_std     8892 non-null   float64\n",
      " 30  liwc_political             8974 non-null   float64\n",
      " 31  moral_outrage              8974 non-null   float64\n",
      " 32  valence_neg                8974 non-null   float64\n",
      " 33  valence_neu                8974 non-null   float64\n",
      " 34  valence_pos                8974 non-null   float64\n",
      " 35  politics_sites2_ideo_std   9000 non-null   float64\n",
      " 36  hashtag_ideo_std           9000 non-null   float64\n",
      " 37  barbera_std                8373 non-null   float64\n",
      " 38  politics_sites1_std        9000 non-null   int64  \n",
      " 39  repeated_tweet_count       8471 non-null   float64\n",
      " 40  freq_pr_1h                 9000 non-null   int64  \n",
      " 41  bad_domain_count           9000 non-null   int64  \n",
      "dtypes: float64(34), int64(8)\n",
      "memory usage: 2.9 MB\n"
     ]
    }
   ],
   "source": [
    "data.info()"
   ]
  },
  {
   "cell_type": "code",
   "execution_count": 13,
   "metadata": {},
   "outputs": [
    {
     "data": {
      "text/html": [
       "<div>\n",
       "<style scoped>\n",
       "    .dataframe tbody tr th:only-of-type {\n",
       "        vertical-align: middle;\n",
       "    }\n",
       "\n",
       "    .dataframe tbody tr th {\n",
       "        vertical-align: top;\n",
       "    }\n",
       "\n",
       "    .dataframe thead th {\n",
       "        text-align: right;\n",
       "    }\n",
       "</style>\n",
       "<table border=\"1\" class=\"dataframe\">\n",
       "  <thead>\n",
       "    <tr style=\"text-align: right;\">\n",
       "      <th></th>\n",
       "      <th>politics_followed</th>\n",
       "      <th>lowqual_pr2019_crowd</th>\n",
       "      <th>lowqual_pr2019_fc</th>\n",
       "      <th>lowqual_afm</th>\n",
       "      <th>lowqual_mbfc</th>\n",
       "      <th>lowqual_lasser2019</th>\n",
       "      <th>lowqual_pr2019_crowdrep</th>\n",
       "      <th>botsentinel_score</th>\n",
       "      <th>rewire_abuse</th>\n",
       "      <th>rewire_hate</th>\n",
       "      <th>...</th>\n",
       "      <th>rocklage_extremity_std</th>\n",
       "      <th>rocklage_emotionality_std</th>\n",
       "      <th>rocklage_certainty_std</th>\n",
       "      <th>liwc_political</th>\n",
       "      <th>moral_outrage</th>\n",
       "      <th>valence_neg</th>\n",
       "      <th>valence_neu</th>\n",
       "      <th>valence_pos</th>\n",
       "      <th>barbera_std</th>\n",
       "      <th>repeated_tweet_count</th>\n",
       "    </tr>\n",
       "  </thead>\n",
       "  <tbody>\n",
       "    <tr>\n",
       "      <th>0</th>\n",
       "      <td>-0.080295</td>\n",
       "      <td>0.598883</td>\n",
       "      <td>0.279221</td>\n",
       "      <td>0.185315</td>\n",
       "      <td>0.292807</td>\n",
       "      <td>0.350000</td>\n",
       "      <td>0.700800</td>\n",
       "      <td>15.0</td>\n",
       "      <td>0.180008</td>\n",
       "      <td>0.109561</td>\n",
       "      <td>...</td>\n",
       "      <td>0.445273</td>\n",
       "      <td>1.081364</td>\n",
       "      <td>1.176421</td>\n",
       "      <td>0.465</td>\n",
       "      <td>0.219615</td>\n",
       "      <td>0.109935</td>\n",
       "      <td>0.813230</td>\n",
       "      <td>0.076835</td>\n",
       "      <td>0.909460</td>\n",
       "      <td>86.0</td>\n",
       "    </tr>\n",
       "    <tr>\n",
       "      <th>1</th>\n",
       "      <td>2.296375</td>\n",
       "      <td>0.774873</td>\n",
       "      <td>0.848639</td>\n",
       "      <td>0.614156</td>\n",
       "      <td>0.513147</td>\n",
       "      <td>0.975087</td>\n",
       "      <td>0.755118</td>\n",
       "      <td>52.0</td>\n",
       "      <td>0.085648</td>\n",
       "      <td>0.133644</td>\n",
       "      <td>...</td>\n",
       "      <td>0.191000</td>\n",
       "      <td>0.382000</td>\n",
       "      <td>0.652917</td>\n",
       "      <td>0.680</td>\n",
       "      <td>0.183029</td>\n",
       "      <td>0.115985</td>\n",
       "      <td>0.793715</td>\n",
       "      <td>0.090250</td>\n",
       "      <td>0.157056</td>\n",
       "      <td>133.0</td>\n",
       "    </tr>\n",
       "    <tr>\n",
       "      <th>2</th>\n",
       "      <td>-2.312730</td>\n",
       "      <td>0.548727</td>\n",
       "      <td>0.242347</td>\n",
       "      <td>0.130950</td>\n",
       "      <td>0.242445</td>\n",
       "      <td>0.300000</td>\n",
       "      <td>0.658118</td>\n",
       "      <td>17.0</td>\n",
       "      <td>0.156415</td>\n",
       "      <td>0.100484</td>\n",
       "      <td>...</td>\n",
       "      <td>0.716100</td>\n",
       "      <td>1.634400</td>\n",
       "      <td>1.241714</td>\n",
       "      <td>0.450</td>\n",
       "      <td>0.254935</td>\n",
       "      <td>0.085765</td>\n",
       "      <td>0.817340</td>\n",
       "      <td>0.096915</td>\n",
       "      <td>0.445349</td>\n",
       "      <td>3.0</td>\n",
       "    </tr>\n",
       "    <tr>\n",
       "      <th>3</th>\n",
       "      <td>-1.507481</td>\n",
       "      <td>0.611501</td>\n",
       "      <td>0.360119</td>\n",
       "      <td>0.180055</td>\n",
       "      <td>0.277793</td>\n",
       "      <td>0.316038</td>\n",
       "      <td>0.699165</td>\n",
       "      <td>24.0</td>\n",
       "      <td>0.206408</td>\n",
       "      <td>0.079237</td>\n",
       "      <td>...</td>\n",
       "      <td>0.703071</td>\n",
       "      <td>1.374143</td>\n",
       "      <td>0.732737</td>\n",
       "      <td>0.410</td>\n",
       "      <td>0.229339</td>\n",
       "      <td>0.108680</td>\n",
       "      <td>0.781135</td>\n",
       "      <td>0.110190</td>\n",
       "      <td>0.256665</td>\n",
       "      <td>104.0</td>\n",
       "    </tr>\n",
       "    <tr>\n",
       "      <th>4</th>\n",
       "      <td>2.010573</td>\n",
       "      <td>0.700217</td>\n",
       "      <td>0.698661</td>\n",
       "      <td>0.430655</td>\n",
       "      <td>0.554609</td>\n",
       "      <td>0.763889</td>\n",
       "      <td>0.725429</td>\n",
       "      <td>56.0</td>\n",
       "      <td>0.084418</td>\n",
       "      <td>0.078898</td>\n",
       "      <td>...</td>\n",
       "      <td>0.382444</td>\n",
       "      <td>0.888600</td>\n",
       "      <td>1.241450</td>\n",
       "      <td>0.580</td>\n",
       "      <td>0.260533</td>\n",
       "      <td>0.065145</td>\n",
       "      <td>0.860550</td>\n",
       "      <td>0.074320</td>\n",
       "      <td>0.431149</td>\n",
       "      <td>36.0</td>\n",
       "    </tr>\n",
       "    <tr>\n",
       "      <th>...</th>\n",
       "      <td>...</td>\n",
       "      <td>...</td>\n",
       "      <td>...</td>\n",
       "      <td>...</td>\n",
       "      <td>...</td>\n",
       "      <td>...</td>\n",
       "      <td>...</td>\n",
       "      <td>...</td>\n",
       "      <td>...</td>\n",
       "      <td>...</td>\n",
       "      <td>...</td>\n",
       "      <td>...</td>\n",
       "      <td>...</td>\n",
       "      <td>...</td>\n",
       "      <td>...</td>\n",
       "      <td>...</td>\n",
       "      <td>...</td>\n",
       "      <td>...</td>\n",
       "      <td>...</td>\n",
       "      <td>...</td>\n",
       "      <td>...</td>\n",
       "    </tr>\n",
       "    <tr>\n",
       "      <th>8995</th>\n",
       "      <td>NaN</td>\n",
       "      <td>0.559728</td>\n",
       "      <td>0.257015</td>\n",
       "      <td>0.167228</td>\n",
       "      <td>0.473955</td>\n",
       "      <td>0.336758</td>\n",
       "      <td>0.673878</td>\n",
       "      <td>34.0</td>\n",
       "      <td>0.181040</td>\n",
       "      <td>0.084420</td>\n",
       "      <td>...</td>\n",
       "      <td>0.647733</td>\n",
       "      <td>1.196533</td>\n",
       "      <td>1.003000</td>\n",
       "      <td>0.520</td>\n",
       "      <td>0.207269</td>\n",
       "      <td>0.087090</td>\n",
       "      <td>0.863170</td>\n",
       "      <td>0.049770</td>\n",
       "      <td>NaN</td>\n",
       "      <td>724.0</td>\n",
       "    </tr>\n",
       "    <tr>\n",
       "      <th>8996</th>\n",
       "      <td>1.689321</td>\n",
       "      <td>0.703698</td>\n",
       "      <td>0.720918</td>\n",
       "      <td>0.399594</td>\n",
       "      <td>0.568832</td>\n",
       "      <td>0.772321</td>\n",
       "      <td>0.727482</td>\n",
       "      <td>50.0</td>\n",
       "      <td>0.100079</td>\n",
       "      <td>0.080027</td>\n",
       "      <td>...</td>\n",
       "      <td>0.626571</td>\n",
       "      <td>0.934429</td>\n",
       "      <td>1.180278</td>\n",
       "      <td>0.445</td>\n",
       "      <td>0.208994</td>\n",
       "      <td>0.067430</td>\n",
       "      <td>0.843105</td>\n",
       "      <td>0.089495</td>\n",
       "      <td>0.890596</td>\n",
       "      <td>71.0</td>\n",
       "    </tr>\n",
       "    <tr>\n",
       "      <th>8997</th>\n",
       "      <td>NaN</td>\n",
       "      <td>0.627648</td>\n",
       "      <td>0.400227</td>\n",
       "      <td>0.217915</td>\n",
       "      <td>0.303897</td>\n",
       "      <td>0.355212</td>\n",
       "      <td>0.714133</td>\n",
       "      <td>23.0</td>\n",
       "      <td>0.205299</td>\n",
       "      <td>0.097407</td>\n",
       "      <td>...</td>\n",
       "      <td>0.831250</td>\n",
       "      <td>1.517750</td>\n",
       "      <td>0.954929</td>\n",
       "      <td>0.355</td>\n",
       "      <td>0.272978</td>\n",
       "      <td>0.083680</td>\n",
       "      <td>0.849685</td>\n",
       "      <td>0.066635</td>\n",
       "      <td>NaN</td>\n",
       "      <td>99.0</td>\n",
       "    </tr>\n",
       "    <tr>\n",
       "      <th>8998</th>\n",
       "      <td>1.525494</td>\n",
       "      <td>0.764551</td>\n",
       "      <td>0.808780</td>\n",
       "      <td>0.388632</td>\n",
       "      <td>0.462972</td>\n",
       "      <td>0.863636</td>\n",
       "      <td>0.732447</td>\n",
       "      <td>57.0</td>\n",
       "      <td>0.250229</td>\n",
       "      <td>0.084796</td>\n",
       "      <td>...</td>\n",
       "      <td>0.632300</td>\n",
       "      <td>0.911300</td>\n",
       "      <td>1.100783</td>\n",
       "      <td>0.485</td>\n",
       "      <td>0.339297</td>\n",
       "      <td>0.112050</td>\n",
       "      <td>0.808630</td>\n",
       "      <td>0.079320</td>\n",
       "      <td>0.900122</td>\n",
       "      <td>210.0</td>\n",
       "    </tr>\n",
       "    <tr>\n",
       "      <th>8999</th>\n",
       "      <td>-1.411865</td>\n",
       "      <td>0.581819</td>\n",
       "      <td>0.252232</td>\n",
       "      <td>0.185156</td>\n",
       "      <td>0.284862</td>\n",
       "      <td>0.318627</td>\n",
       "      <td>0.686084</td>\n",
       "      <td>17.0</td>\n",
       "      <td>0.114230</td>\n",
       "      <td>0.081565</td>\n",
       "      <td>...</td>\n",
       "      <td>0.532077</td>\n",
       "      <td>1.083154</td>\n",
       "      <td>0.874536</td>\n",
       "      <td>0.505</td>\n",
       "      <td>0.289826</td>\n",
       "      <td>0.066825</td>\n",
       "      <td>0.841865</td>\n",
       "      <td>0.091295</td>\n",
       "      <td>0.424989</td>\n",
       "      <td>745.0</td>\n",
       "    </tr>\n",
       "  </tbody>\n",
       "</table>\n",
       "<p>9000 rows × 30 columns</p>\n",
       "</div>"
      ],
      "text/plain": [
       "      politics_followed  lowqual_pr2019_crowd  lowqual_pr2019_fc  lowqual_afm  \\\n",
       "0             -0.080295              0.598883           0.279221     0.185315   \n",
       "1              2.296375              0.774873           0.848639     0.614156   \n",
       "2             -2.312730              0.548727           0.242347     0.130950   \n",
       "3             -1.507481              0.611501           0.360119     0.180055   \n",
       "4              2.010573              0.700217           0.698661     0.430655   \n",
       "...                 ...                   ...                ...          ...   \n",
       "8995                NaN              0.559728           0.257015     0.167228   \n",
       "8996           1.689321              0.703698           0.720918     0.399594   \n",
       "8997                NaN              0.627648           0.400227     0.217915   \n",
       "8998           1.525494              0.764551           0.808780     0.388632   \n",
       "8999          -1.411865              0.581819           0.252232     0.185156   \n",
       "\n",
       "      lowqual_mbfc  lowqual_lasser2019  lowqual_pr2019_crowdrep  \\\n",
       "0         0.292807            0.350000                 0.700800   \n",
       "1         0.513147            0.975087                 0.755118   \n",
       "2         0.242445            0.300000                 0.658118   \n",
       "3         0.277793            0.316038                 0.699165   \n",
       "4         0.554609            0.763889                 0.725429   \n",
       "...            ...                 ...                      ...   \n",
       "8995      0.473955            0.336758                 0.673878   \n",
       "8996      0.568832            0.772321                 0.727482   \n",
       "8997      0.303897            0.355212                 0.714133   \n",
       "8998      0.462972            0.863636                 0.732447   \n",
       "8999      0.284862            0.318627                 0.686084   \n",
       "\n",
       "      botsentinel_score  rewire_abuse  rewire_hate  ...  \\\n",
       "0                  15.0      0.180008     0.109561  ...   \n",
       "1                  52.0      0.085648     0.133644  ...   \n",
       "2                  17.0      0.156415     0.100484  ...   \n",
       "3                  24.0      0.206408     0.079237  ...   \n",
       "4                  56.0      0.084418     0.078898  ...   \n",
       "...                 ...           ...          ...  ...   \n",
       "8995               34.0      0.181040     0.084420  ...   \n",
       "8996               50.0      0.100079     0.080027  ...   \n",
       "8997               23.0      0.205299     0.097407  ...   \n",
       "8998               57.0      0.250229     0.084796  ...   \n",
       "8999               17.0      0.114230     0.081565  ...   \n",
       "\n",
       "      rocklage_extremity_std  rocklage_emotionality_std  \\\n",
       "0                   0.445273                   1.081364   \n",
       "1                   0.191000                   0.382000   \n",
       "2                   0.716100                   1.634400   \n",
       "3                   0.703071                   1.374143   \n",
       "4                   0.382444                   0.888600   \n",
       "...                      ...                        ...   \n",
       "8995                0.647733                   1.196533   \n",
       "8996                0.626571                   0.934429   \n",
       "8997                0.831250                   1.517750   \n",
       "8998                0.632300                   0.911300   \n",
       "8999                0.532077                   1.083154   \n",
       "\n",
       "      rocklage_certainty_std  liwc_political  moral_outrage  valence_neg  \\\n",
       "0                   1.176421           0.465       0.219615     0.109935   \n",
       "1                   0.652917           0.680       0.183029     0.115985   \n",
       "2                   1.241714           0.450       0.254935     0.085765   \n",
       "3                   0.732737           0.410       0.229339     0.108680   \n",
       "4                   1.241450           0.580       0.260533     0.065145   \n",
       "...                      ...             ...            ...          ...   \n",
       "8995                1.003000           0.520       0.207269     0.087090   \n",
       "8996                1.180278           0.445       0.208994     0.067430   \n",
       "8997                0.954929           0.355       0.272978     0.083680   \n",
       "8998                1.100783           0.485       0.339297     0.112050   \n",
       "8999                0.874536           0.505       0.289826     0.066825   \n",
       "\n",
       "      valence_neu  valence_pos  barbera_std  repeated_tweet_count  \n",
       "0        0.813230     0.076835     0.909460                  86.0  \n",
       "1        0.793715     0.090250     0.157056                 133.0  \n",
       "2        0.817340     0.096915     0.445349                   3.0  \n",
       "3        0.781135     0.110190     0.256665                 104.0  \n",
       "4        0.860550     0.074320     0.431149                  36.0  \n",
       "...           ...          ...          ...                   ...  \n",
       "8995     0.863170     0.049770          NaN                 724.0  \n",
       "8996     0.843105     0.089495     0.890596                  71.0  \n",
       "8997     0.849685     0.066635          NaN                  99.0  \n",
       "8998     0.808630     0.079320     0.900122                 210.0  \n",
       "8999     0.841865     0.091295     0.424989                 745.0  \n",
       "\n",
       "[9000 rows x 30 columns]"
      ]
     },
     "execution_count": 13,
     "metadata": {},
     "output_type": "execute_result"
    }
   ],
   "source": [
    "data.loc[:, data.isna().any()]"
   ]
  },
  {
   "cell_type": "markdown",
   "metadata": {},
   "source": [
    "This dataset contains columns representing both categorical and numerical data. Missing values are handled based on their specific type and significance in statistical analysis.\n",
    "\n",
    "1. **Categorical Columns**\n",
    "* `politics_followed`, `lowqual_pr2019_crowd`, `lowqual_pr2019_fc`, `lowqual_afm`, `lowqual_mbfc`, `lowqual_lasser2019`, `lowqual_pr2019_crowdrep`\n",
    "\n",
    "We will replace missing values with the **most frequent value (mode)**.\n",
    "\n",
    "2. ****"
   ]
  },
  {
   "cell_type": "markdown",
   "metadata": {},
   "source": [
    "## Twitter Suspensions after the 2020 Election\n",
    "\n",
    "Show, using crosstabulation, that accounts that shared `#Trump2020` during the election were about 4.4 times more likely to be subsequently suspended than the accounts that shared `#VoteBidenHarris2020` (relevant columns: `politics_hashtag` and `suspended`). Then perform a $\\chi^2$ test on the contingency table and explain the results."
   ]
  },
  {
   "cell_type": "code",
   "execution_count": 36,
   "metadata": {},
   "outputs": [
    {
     "data": {
      "text/html": [
       "<div>\n",
       "<style scoped>\n",
       "    .dataframe tbody tr th:only-of-type {\n",
       "        vertical-align: middle;\n",
       "    }\n",
       "\n",
       "    .dataframe tbody tr th {\n",
       "        vertical-align: top;\n",
       "    }\n",
       "\n",
       "    .dataframe thead th {\n",
       "        text-align: right;\n",
       "    }\n",
       "</style>\n",
       "<table border=\"1\" class=\"dataframe\">\n",
       "  <thead>\n",
       "    <tr style=\"text-align: right;\">\n",
       "      <th>suspended</th>\n",
       "      <th>0</th>\n",
       "      <th>1</th>\n",
       "    </tr>\n",
       "    <tr>\n",
       "      <th>politics_hashtag</th>\n",
       "      <th></th>\n",
       "      <th></th>\n",
       "    </tr>\n",
       "  </thead>\n",
       "  <tbody>\n",
       "    <tr>\n",
       "      <th>0</th>\n",
       "      <td>4295</td>\n",
       "      <td>200</td>\n",
       "    </tr>\n",
       "    <tr>\n",
       "      <th>1</th>\n",
       "      <td>3623</td>\n",
       "      <td>882</td>\n",
       "    </tr>\n",
       "  </tbody>\n",
       "</table>\n",
       "</div>"
      ],
      "text/plain": [
       "suspended            0    1\n",
       "politics_hashtag           \n",
       "0                 4295  200\n",
       "1                 3623  882"
      ]
     },
     "execution_count": 36,
     "metadata": {},
     "output_type": "execute_result"
    }
   ],
   "source": [
    "table = pd.crosstab(\n",
    "  index=data['politics_hashtag'],\n",
    "  columns=data['suspended'],\n",
    ")\n",
    "table"
   ]
  },
  {
   "cell_type": "markdown",
   "metadata": {},
   "source": [
    "Using the results of the Crosstab Table, we can see that the republicans were about 4.41 times more likely to be subsequently suspended than the accounts of the democrats."
   ]
  },
  {
   "cell_type": "code",
   "execution_count": 43,
   "metadata": {},
   "outputs": [
    {
     "data": {
      "text/plain": [
       "4.41"
      ]
     },
     "execution_count": 43,
     "metadata": {},
     "output_type": "execute_result"
    }
   ],
   "source": [
    "ratio = table.loc[1, 1] / table.loc[0, 1]\n",
    "ratio"
   ]
  },
  {
   "cell_type": "markdown",
   "metadata": {},
   "source": [
    "By performing a $\\chi^2$ test we get the following results:\n",
    "  * $\\chi^2$ statistic:\n",
    "    * **Value:** 485.47\n",
    "    * A high chi-square value, like 485.47, indicates a substantial deviation from what we would expect if there were no realtionship between account suspendion and political party.\n",
    "  * p-Value:\n",
    "    * **Value:** $1.38 \\times 10^{-107}$\n",
    "    * The p-value indicates the probability of observing a chi-square a chi-square value as extreme as 485.47 (or more extreme) under the null hypothesis that account suspension and political party affiliation are independent.\n",
    "    * A p-value this small (essentially 0) is far below any conventional significance level. This strongly suggests that the null hypothesis of independence can be rejected.\n",
    "  * Significance:\n",
    "    * **Result:** True\n",
    "    * The significance result confirms that the p-value is below the pre-determined significance threshold (**here 5%**).\n",
    "We can observe from the results that the account suspension is significantly associated with the political party affiliation."
   ]
  },
  {
   "cell_type": "code",
   "execution_count": 50,
   "metadata": {},
   "outputs": [
    {
     "data": {
      "text/plain": [
       "(485.46706126582285, 1.3808204811294585e-107, True)"
      ]
     },
     "execution_count": 50,
     "metadata": {},
     "output_type": "execute_result"
    }
   ],
   "source": [
    "chi2, p, dof, expected = chi2_contingency(table)\n",
    "significant = p < 0.05 # 5% significance level\n",
    "\n",
    "chi2, p, significant"
   ]
  },
  {
   "cell_type": "markdown",
   "metadata": {},
   "source": [
    "## Distributions of Relative Frequency of Low Quality\n",
    "\n",
    "Plot the distributions of low-quality sharing as determined by eight professional fact-checkers (column `lowqual_pr2019_fc`), grouped by `politics_hashtag`. The $x$-axis should be standardized using z-scores. The distributions should look like the following figure."
   ]
  },
  {
   "cell_type": "markdown",
   "metadata": {},
   "source": [
    "<img src=\"fig_1.svg\"/>"
   ]
  },
  {
   "cell_type": "markdown",
   "metadata": {},
   "source": [
    "We convert the `lowqual_pr2019_fc` values, to their z-score and save the results in a new column `lowqual_pr2019_fc_zscore`."
   ]
  },
  {
   "cell_type": "code",
   "execution_count": null,
   "metadata": {},
   "outputs": [],
   "source": [
    "data['lowqual_pr2019_fc_zscore'] = zscore(\n",
    "  a = data['lowqual_pr2019_fc'],\n",
    "  nan_policy = 'omit' # TODO: Remove the need for this\n",
    ")"
   ]
  },
  {
   "cell_type": "code",
   "execution_count": 45,
   "metadata": {},
   "outputs": [
    {
     "name": "stderr",
     "output_type": "stream",
     "text": [
      "/opt/anaconda3/lib/python3.11/site-packages/seaborn/_oldcore.py:1119: FutureWarning: use_inf_as_na option is deprecated and will be removed in a future version. Convert inf values to NaN before operating instead.\n",
      "  with pd.option_context('mode.use_inf_as_na', True):\n"
     ]
    },
    {
     "data": {
      "text/plain": [
       "Text(0, 0.5, 'Frequency')"
      ]
     },
     "execution_count": 45,
     "metadata": {},
     "output_type": "execute_result"
    },
    {
     "data": {
      "image/png": "[encoded data removed]",
      "text/plain": [
       "<Figure size 900x400 with 1 Axes>"
      ]
     },
     "metadata": {},
     "output_type": "display_data"
    }
   ],
   "source": [
    "plt.figure(figsize=(9, 4))\n",
    "\n",
    "sns.kdeplot(\n",
    "    data = data,\n",
    "    x = 'lowqual_pr2019_fc_zscore',\n",
    "    hue = 'politics_hashtag',\n",
    "    fill= True,\n",
    ")\n",
    "\n",
    "plt.xlabel('Low-quality news sharing')\n",
    "plt.ylabel('Frequency')"
   ]
  },
  {
   "cell_type": "markdown",
   "metadata": {},
   "source": [
    "We can observe from the results that the republicans "
   ]
  },
  {
   "cell_type": "markdown",
   "metadata": {},
   "source": [
    "Having done, that, proceed to do the same with low-quality sharing as determined by crowdsourcing from 971 participants from the USA (column `lowqual_pr2019_crowd`). The distributions should look like the following figure.\n",
    "\n",
    "<img src=\"fig_2.svg\" />"
   ]
  },
  {
   "cell_type": "code",
   "execution_count": null,
   "metadata": {},
   "outputs": [],
   "source": [
    "data['lowqual_pr2019_crowd_zscore'] = zscore(\n",
    "  a = data['lowqual_pr2019_crowd'],\n",
    "  nan_policy = 'omit' # TODO: Remove the need for this\n",
    ")"
   ]
  },
  {
   "cell_type": "code",
   "execution_count": 47,
   "metadata": {},
   "outputs": [
    {
     "name": "stderr",
     "output_type": "stream",
     "text": [
      "/opt/anaconda3/lib/python3.11/site-packages/seaborn/_oldcore.py:1119: FutureWarning: use_inf_as_na option is deprecated and will be removed in a future version. Convert inf values to NaN before operating instead.\n",
      "  with pd.option_context('mode.use_inf_as_na', True):\n"
     ]
    },
    {
     "data": {
      "text/plain": [
       "Text(0, 0.5, 'Frequency')"
      ]
     },
     "execution_count": 47,
     "metadata": {},
     "output_type": "execute_result"
    },
    {
     "data": {
      "image/png": "[encoded data removed]",
      "text/plain": [
       "<Figure size 900x400 with 1 Axes>"
      ]
     },
     "metadata": {},
     "output_type": "display_data"
    }
   ],
   "source": [
    "plt.figure(figsize=(9, 4))\n",
    "\n",
    "sns.kdeplot(\n",
    "    data = data,\n",
    "    x = 'lowqual_pr2019_crowd_zscore',\n",
    "    hue = 'politics_hashtag',\n",
    "    fill= True,\n",
    ")\n",
    "\n",
    "plt.xlabel('Low-quality news sharing')\n",
    "plt.ylabel('Frequency')"
   ]
  },
  {
   "cell_type": "markdown",
   "metadata": {},
   "source": [
    "Show the results of the t-statistic for these two groups as well."
   ]
  },
  {
   "cell_type": "code",
   "execution_count": 62,
   "metadata": {},
   "outputs": [
    {
     "name": "stdout",
     "output_type": "stream",
     "text": [
      "TtestResult(statistic=-119.22334314832361, pvalue=0.0, df=8943.0)\n"
     ]
    }
   ],
   "source": [
    "group0 = data[data['politics_hashtag'] == 0]['lowqual_pr2019_fc_zscore'].dropna()\n",
    "group1 = data[data['politics_hashtag'] == 1]['lowqual_pr2019_fc_zscore'].dropna()\n",
    "\n",
    "ttest= stats.ttest_ind(\n",
    "  group0,\n",
    "  group1\n",
    ")\n",
    "\n",
    "print(ttest)"
   ]
  },
  {
   "cell_type": "markdown",
   "metadata": {},
   "source": [
    "What we can observe from the results of the **Two Sample T-Test** is:\n",
    "\n",
    "  * **T-statistic:**\n",
    "    * A t-statistic of -119.22 is extremely large in absolute value, suggesting a very significant difference between the means of the two groups.\n",
    "    * The negative sign indicates that the republicans has a lowere mean of low quality news sharing, compared to the democrats.\n",
    "  * **P-value:**\n",
    "    * A p-value of 0.0 is essentially zero, meaning the difference between the two groupd is highly statistically significant.\n",
    "    * This indicates that it is extremely unlikely that the observed difference in means between the two groups is due to random chance. \n",
    "    In practical terms, this means the groupd are very different from each other in terms of their low-quality news sharing.\n",
    "  * **Degrees of freedom:**\n",
    "    * The degrees of freedom (df = 8943) show that since the sample size is quite large, the statistical power of the test is increased."
   ]
  },
  {
   "cell_type": "code",
   "execution_count": 63,
   "metadata": {},
   "outputs": [
    {
     "name": "stdout",
     "output_type": "stream",
     "text": [
      "TtestResult(statistic=-102.46401373884626, pvalue=0.0, df=8943.0)\n"
     ]
    }
   ],
   "source": [
    "group0 = data[data['politics_hashtag'] == 0]['lowqual_pr2019_crowd_zscore'].dropna()\n",
    "group1 = data[data['politics_hashtag'] == 1]['lowqual_pr2019_crowd_zscore'].dropna()\n",
    "\n",
    "ttest= stats.ttest_ind(\n",
    "  group0,\n",
    "  group1\n",
    ")\n",
    "\n",
    "print(ttest)"
   ]
  },
  {
   "cell_type": "markdown",
   "metadata": {},
   "source": [
    "When using low-quality sharing data determined through crowdsourcing from 971 participants in the USA, we obtain similar results. This further strengthens the reliability of our findings."
   ]
  },
  {
   "cell_type": "markdown",
   "metadata": {},
   "source": [
    "## Low-quality News Sharing on Twitter\n",
    "\n",
    "We will proceed to examine low-quality news sharing on Twitter on a more quantitave manner, using the t-test. In particular, we will use the t-test based on groups of users depending on their `politics_hashtag` and various assessments of low-quality news sharing. We will quantify the effect size of the t-test using Cohen's $d$ and Hedges' $g$."
   ]
  },
  {
   "cell_type": "markdown",
   "metadata": {},
   "source": [
    "Cohen's $d$ is defined as the difference between two means divided by a standard deviation for the data, i.e.:\n",
    "\n",
    "$$ d = \\frac{\\bar{x}_{1} - \\bar{x}_{2}}{s} $$\n",
    "\n",
    "$s$, the pooled standard deviation for two independent samples is defined as:\n",
    "\n",
    "$$ s=\\sqrt{\\frac{(n_{1}-1)s_{1}^{2}+(n_{2}-1)s_{2}^{2}}{n_{1}+n_{2}-2}} $$\n",
    "\n",
    "where $n_1$, $n_2$ is the size of each sample and the variance of $s_1$ is defined as:\n",
    "\n",
    "$$ s_{1}^{2}=\\frac{1}{n_{1}-1} \\sum _{i=1}^{n_{1}}(x_{1,i}-{\\bar {x}}_{1})^{2} $$\n",
    "\n",
    "with the variance of $s_2$ defined similarly. The values of Cohen's $d$ can be interpreted as follows:\n",
    "\n",
    "| Effect Size | $d$  |\n",
    "|-------------|------|\n",
    "| Very small  | 0.01 |\n",
    "| Small\t      | 0.20 |\n",
    "| Medium\t  | 0.50 |\n",
    "| Large\t      | 0.80 |\n",
    "| Very large  | 1.20 |\n",
    "| Huge        | 2.00 |\n",
    "\n",
    "Hedges' $g$ corrects Cohen's $d$ for bias in small sample sizes and is defined as:\n",
    "\n",
    "$$ 1 - \\bigg(\\frac{3}{4  (n_1 + n_2) - 9)}\\bigg)d $$"
   ]
  },
  {
   "cell_type": "markdown",
   "metadata": {},
   "source": [
    "You will perform a t-test statistic and report Cohen's $d$ and Hedges' $g$ for the following, grouped by `politics_hashtag`.\n",
    "\n",
    "* `lowqual_pr2019_fc` (sites rated by fact-checkers)\n",
    "* `lowqual_afm` (sites rated by Ad Fontes media, <https://adfontesmedia.com/>)\n",
    "* `lowqual_mbfc` (sites rated by Media Bias/Fact Check, <https://mediabiasfactcheck.com/>)\n",
    "* `lowqual_lasser2019` (sites rated by Laser et al., https://doi.org/10.1093/pnasnexus/pgac186)\n",
    "* `lowqual_pr2019_crowd` (sites rated by crowdsourcing 971 participants from the USA)\n",
    "* `lowqual_pr2019_crowdrep` (sites rated by the republicans among the 971 participants of above)"
   ]
  },
  {
   "cell_type": "markdown",
   "metadata": {},
   "source": [
    "### Sharing Lower-quality News Sources and Conservative Ideology"
   ]
  },
  {
   "cell_type": "markdown",
   "metadata": {},
   "source": [
    "To see if there is a correlation between lower-quality news sources and conservative ideology, you will perform pairwise correlations between, on the one hand:\n",
    "\n",
    " * `lowqual_pr2019_fc`\n",
    " * `lowqual_lasser2019`\n",
    " * `lowqual_mbfc`\n",
    " * `lowqual_afm`\n",
    " * `lowqual_pr2019_crowd`\n",
    " * `lowqual_pr2019_crowdrep`\n",
    "\n",
    "and on the other hand:\n",
    "\n",
    " * `politics_followed` (political ideology estimated on the basis of Twitter accounts user followed)\n",
    " * `politics_hashtag`\n",
    " * `politics_sites1` (political ideology estimated on the basis of the news sites the users share, <https://doi.org/10.1126/science.aau2706>)\n",
    " * `politics_sites2` (political ideology estimated on the basis of the news sites ther users share, <https://doi.org/10.31219/osf.io/ch8gj>)\n",
    "\n",
    "You should display the results in a heatmap like the following:\n",
    "\n",
    "<img src=\"fig_3.svg\"/>"
   ]
  },
  {
   "cell_type": "markdown",
   "metadata": {},
   "source": [
    "## News Sharing Can Help Explain Suspension, Using Single Predictors"
   ]
  },
  {
   "cell_type": "markdown",
   "metadata": {},
   "source": [
    "You will use the following predictors to predict whether a user was suspended or not:\n",
    "\n",
    "  * `politics_hashtag`\n",
    "  * `politics_sites1`\n",
    "  * `politics_sites2`\n",
    "  * `politics_followed`\n",
    "  * `lowqual_afm`\n",
    "  * `lowqual_mbfc`\n",
    "  * `lowqual_lasser2019`\n",
    "  * `lowqual_pr2019_fc`\n",
    "  * `lowqual_pr2019_crowd`\n",
    "\n",
    "The predictions will be with a probit model. The probit model is an alternative to logit, but while the latter uses the logit as the *link function*, the probit model uses the inverse of the cumulative distribution function (CDF) of the standard normal distribution (denoted as $\\Phi^{-1}$) as the link function. Mathematically:\n",
    "\n",
    "$$ \\Phi^{-1}(P(Y = 1 | X)) = X\\beta $$\n",
    "\n",
    "where $P(Y = 1  | X)$ is the probability of the event occurring, $X$ represents the independent variables, and $\\beta$ is the vector of coefficients.\n",
    "\n",
    "The predictions will be evaluated with the AUC of the ROC curve. To get confidence intervals, repeat each prediction 100 times by using the boostrap method. \n",
    "\n",
    "Print the AUC and the confidence intervals in a table. Then use them to plot all your evaluations and the confidence intervals in a barchart like the following:\n",
    "\n",
    "<img src=\"fig_4.svg\" />"
   ]
  },
  {
   "cell_type": "markdown",
   "metadata": {},
   "source": [
    "## News Sharing Can Help Explain Suspension, Using Multiple Predictors"
   ]
  },
  {
   "cell_type": "markdown",
   "metadata": {},
   "source": [
    "You will also use multiple regression models to predict and explain suspension. \n",
    "\n",
    "Start by filing in missing values in your data by using the column mean. Then log transform, base 10, the variables that are related to Tweeter metrics, i.e.:\n",
    "\n",
    "* `repeated_tweet_count` to `log_repeated_tweet_count`\n",
    "* `freq_pr_1h` (maximum frequency of primary tweets in an hour) to `log_freq_pr_1h`\n",
    "* `num_followers` to `log_num_followers`\n",
    "* `num_friends` to `log_num_friends`\n",
    "\n",
    "Introduce an additional variable, `log_fol`, which should the be base 10 logarithm of `num_friends` over `num_followers` ratio. To prevent out of domain errors, add 1 to each variable when using it in the transforms."
   ]
  },
  {
   "cell_type": "markdown",
   "metadata": {},
   "source": [
    "To reduce the effect of outliers, you will [winsorize](https://en.wikipedia.org/wiki/Winsorizing) the data. Winzorize from both sides at the top 1% the following variables:\n",
    "\n",
    "* `valence_neg`\n",
    "* `valence_neu`\n",
    "* `valence_pos`\n",
    "* `barbera_std`\n",
    "* `politics_sites1_std`\n",
    "* `politics_sites2_ideo_std`\n",
    "\n",
    "The `valence_*`, variables were calculated using VADER (<https://doi.org/10.1609/icwsm.v8i1.14550>). The `barbera_std` variable was calculated based on the work of Barbera et al. (<https://doi.org/10.1177/0956797615594620>)."
   ]
  },
  {
   "cell_type": "markdown",
   "metadata": {},
   "source": [
    "Winsorize the upper side of the following  variables at the top 1%:\n",
    "\n",
    "* `moral_outrage`\n",
    "* `rewire_abuse`\n",
    "* `rewire_hate`\n",
    "* `rewire_profanity`\n",
    "* `rewire_violent`\n",
    "* `rewire_sexually_explicit`\n",
    "* `jigsaw_toxicity`\n",
    "* `jigsaw_severe_toxicity`\n",
    "* `jigsaw_idenity_attack`\n",
    "* `jigsaw_insult`\n",
    "* `jigsaw_profanity`\n",
    "* `jigsaw_threat`\n",
    "\n",
    "The `moral_outrage` variable was calculated based on the work of Brady et al. (<https://doi.org/doi:10.1126/sciadv.abe5641>). The `rewire_*` variables were calculated using the Rewire Online API (acquired by ActiveFence in 2023)., The `jigsaw_*` variables were calculated using the Google Jigsaw Perspective API (<https://jigsaw.google.com/>, <https://perspectiveapi.com/>)."
   ]
  },
  {
   "cell_type": "markdown",
   "metadata": {},
   "source": [
    "You will derive and use a single PCA component, `pc1_misinfo`, for low quality news sharing, that is, the variables:\n",
    "\n",
    "* `lowqual_pr2019_fc`\n",
    "* `lowqual_afm`\n",
    "* `lowqual_lasser2019`\n",
    "* `lowqual_mbfc`\n",
    "\n",
    "Show the explained variance ratio. Then project the low quality news sharing dimensions to this new dimension."
   ]
  },
  {
   "cell_type": "markdown",
   "metadata": {},
   "source": [
    "We will work in the same way for the political orientation, getting a single PCA component, `pc1_politics`, for the variables:\n",
    "\n",
    "* `politics_hashtag`\n",
    "* `politics_followed`\n",
    "* `politics_sites1`\n",
    "* `politics_sites2`\n",
    "\n",
    "Show the explained variance ratio and project the political orientation dimensions to this new dimension.\n",
    "\n",
    "Introduce a new variable, `extremity`, which is the absolute value of the PCA component you got."
   ]
  },
  {
   "cell_type": "markdown",
   "metadata": {},
   "source": [
    "Also do the same for `log_followers`, `log_friends`, `log_fol`, producing `pc1_fol`."
   ]
  },
  {
   "cell_type": "markdown",
   "metadata": {},
   "source": [
    "Regarding the harmful language variables, perform PCA for *three* components, `pc1_harmful_language`, `pc2_harmful_language`, `pc3_harmful_language`, on the winsorized data of:\n",
    "\n",
    "* `rewire_abuse`\n",
    "* `rewire_hate`\n",
    "* `rewire_profanity`\n",
    "* `rewire_violent`\n",
    "* `rewire_sexually_explicit`\n",
    "* `jigsaw_toxicity`\n",
    "* `jigsaw_severe_toxicity`\n",
    "* `jigsaw_idenity_attack`\n",
    "* `jigsaw_insult`\n",
    "* `jigsaw_profanity`\n",
    "* `jigsaw_threat`\n",
    "\n",
    "Why use three components instead of one in this case? Try to interpret each of the principal components."
   ]
  },
  {
   "cell_type": "markdown",
   "metadata": {},
   "source": [
    "Return to producing a single PCA component, `pc1_valence`, for the winsorized data of the valence variables:\n",
    "\n",
    "* `valence_neg`\n",
    "* `valence_neu`\n",
    "* `valence_pos`"
   ]
  },
  {
   "cell_type": "markdown",
   "metadata": {},
   "source": [
    "Before proceeding, normalize the independent variables by taking their z-scores. You will use the following z-scored independent variables (winsorized as stated above):\n",
    "\n",
    "* `pc1_politics`\n",
    "* `pc1_misinfo`\n",
    "* `pc1_fol`,\n",
    "* `pc1_harmful_language`\n",
    "* `pc2_harmful_language`\n",
    "* `pc3_harmful_language`\n",
    "* `pc1_valence`\n",
    "* `tweets_in_2wk`\n",
    "* `botsentinel_score`\n",
    "* `extremity`\n",
    "* `w_moral_outrage`\n",
    "* `liwc_political`\n",
    "* `log_freq_pr_1h`\n",
    "* `log_repeated_tweet_count`\n",
    "* `barbera_std`\n",
    "* `politics_sites1_std`\n",
    "* `politics_sites2_ideo_std`"
   ]
  },
  {
   "cell_type": "markdown",
   "metadata": {},
   "source": [
    "Carry out a probit regression to predict suspension.\n",
    "\n",
    "Before going on to interpret your results, perform the [Bonferroni correction](https://en.wikipedia.org/wiki/Bonferroni_correction) and the [Holm-Bonferroni correction](https://en.wikipedia.org/wiki/Holm%E2%80%93Bonferroni_method) correction. The purpose of both of these tests is to reduce the likelihood of false positives (Type I errors) when conducting multiple statistical tests.\n",
    "\n",
    "In the Bonferroni correction, a hypothesis is rejected with an ajustment to the significance level $\\alpha$:\n",
    "\n",
    "$$ p < \\frac{\\alpha}{m} $$\n",
    "\n",
    "which means that the $p$ values are adjusted by:\n",
    "\n",
    "$$ p' = p \\times m $$\n",
    "\n",
    "where $m$ is the number of tests.\n",
    "\n",
    "The Bonferroni-Holm method is less conservative compared to Bonferroni. It sorts the $p$-values in ascending order and compares them to less stringent thresholds:\n",
    "\n",
    "$$ p_i \\le \\frac{\\alpha}{m - i + 1} $$ \n",
    "\n",
    "where $i$ is the $i$-th smallest $p$-value. Starting with the smallest $p$-value, hypotheses are rejected sequentially until a $p$-value fails to meet the threshold. That means that the $p$ values are adjusted by:\n",
    "\n",
    "$$ p'_i = p_i \\times (m - i + 1) $$\n",
    "\n",
    "Holm-Bonferroni applies progressively smaller corrections as it moves through the sorted $p$-values, making it less conservative and less likely to fall into false negatives (Type II errors).\n",
    "\n",
    "Based on the results, do you think that political orientation influences suspension?\n",
    "\n",
    "Do the same analysis using logit regression."
   ]
  },
  {
   "cell_type": "markdown",
   "metadata": {},
   "source": [
    "## Submission Instructions\n",
    "\n",
    "You must submit your assignment as a Jupyter notebook that will contain the full code and documentation of how you solved the questions, and all other necessary files. Your submission must be fully replicable: that is, somebody reading it must be able to do exactly what you did and obtain the same results.\n",
    "\n",
    "The documentation must be at the level where somebody that has some knowledge of Python can understand exactly what you are doing and why. Your output must be as user-friendly as possible. That means that your output tables should not include zillions of columns that are not needed for your analysis."
   ]
  },
  {
   "cell_type": "markdown",
   "metadata": {},
   "source": [
    "## Honor Code\n",
    "\n",
    "You understand that this is an individual assignment, and as such you must carry it out alone. You may seek help on the Internet, on ChatGPT/Gemini/etc., by Googling or searching in StackOverflow for general questions pertaining to the use of Python and pandas libraries and idioms. However, it is not right to ask direct questions that relate to the assignment and where people will actually solve your problem by answering them. You may discuss with your colleagues in order to better understand the questions, if they are not clear enough, but you should not ask them to share their answers with you, or to help you by giving specific advice."
   ]
  }
 ],
 "metadata": {
  "kernelspec": {
   "display_name": "base",
   "language": "python",
   "name": "python3"
  },
  "language_info": {
   "codemirror_mode": {
    "name": "ipython",
    "version": 3
   },
   "file_extension": ".py",
   "mimetype": "text/x-python",
   "name": "python",
   "nbconvert_exporter": "python",
   "pygments_lexer": "ipython3",
   "version": "3.11.7"
  }
 },
 "nbformat": 4,
 "nbformat_minor": 4
}
