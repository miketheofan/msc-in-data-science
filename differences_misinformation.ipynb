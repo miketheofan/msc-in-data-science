{
 "cells": [
  {
   "cell_type": "markdown",
   "metadata": {},
   "source": [
    "# Social Media Sanctions and Misinformation Sharing\n",
    "\n",
    "There has been a lot of discussions on politics and sanctions in social media. Specifically, people with conservative beliefs argue that they are more likely to be sanctioned on social media than those with more liberal beliefs.\n",
    "\n",
    "If this happens, however, that may not necessarily be the result of different policies on behalf of the social media companies. It may simply be that people with conservative beliefs post online more questionable content, and so they are more likely to be sanctioned even with a completely neutral sanction policy.\n",
    "\n",
    "In a [recent analysis in Nature](https://www.nature.com/articles/s41586-024-07942-8), Mohshen Moshel et al. investigated whether social media sanctions are politically biased or they are the result of differences in misinformation sharing between people of different political beliefs. The authors argue that that media sanctions are not politically biased. Social media users with conservative political beliefs are more likely to post questionable or misinformation material, and so they are more likely to be sanctioned. In this assignment, you will follow through some of Moshel et al.'s research.\n",
    "\n",
    "You will use their data, available at [mosleh_et_al_data.csv](mosleh_et_al_data.csv)."
   ]
  },
  {
   "cell_type": "code",
   "execution_count": 3,
   "metadata": {},
   "outputs": [],
   "source": [
    "import pandas as pd\n",
    "from scipy.stats import chi2_contingency, zscore\n",
    "\n",
    "import scipy.stats as stats\n",
    "\n",
    "import seaborn as sns\n",
    "import matplotlib.pyplot as plt\n",
    "\n",
    "import numpy as np\n",
    "\n",
    "import statsmodels.api as sm\n",
    "\n",
    "from sklearn.metrics import roc_auc_score, roc_curve\n",
    "from sklearn.utils import resample"
   ]
  },
  {
   "cell_type": "code",
   "execution_count": 4,
   "metadata": {},
   "outputs": [
    {
     "data": {
      "text/html": [
       "<div>\n",
       "<style scoped>\n",
       "    .dataframe tbody tr th:only-of-type {\n",
       "        vertical-align: middle;\n",
       "    }\n",
       "\n",
       "    .dataframe tbody tr th {\n",
       "        vertical-align: top;\n",
       "    }\n",
       "\n",
       "    .dataframe thead th {\n",
       "        text-align: right;\n",
       "    }\n",
       "</style>\n",
       "<table border=\"1\" class=\"dataframe\">\n",
       "  <thead>\n",
       "    <tr style=\"text-align: right;\">\n",
       "      <th></th>\n",
       "      <th>politics_sites2</th>\n",
       "      <th>politics_sites1</th>\n",
       "      <th>politics_followed</th>\n",
       "      <th>lowqual_pr2019_crowd</th>\n",
       "      <th>lowqual_pr2019_fc</th>\n",
       "      <th>lowqual_afm</th>\n",
       "      <th>lowqual_mbfc</th>\n",
       "      <th>lowqual_lasser2019</th>\n",
       "      <th>suspended</th>\n",
       "      <th>politics_hashtag</th>\n",
       "      <th>...</th>\n",
       "      <th>valence_neg</th>\n",
       "      <th>valence_neu</th>\n",
       "      <th>valence_pos</th>\n",
       "      <th>politics_sites2_ideo_std</th>\n",
       "      <th>hashtag_ideo_std</th>\n",
       "      <th>barbera_std</th>\n",
       "      <th>politics_sites1_std</th>\n",
       "      <th>repeated_tweet_count</th>\n",
       "      <th>freq_pr_1h</th>\n",
       "      <th>bad_domain_count</th>\n",
       "    </tr>\n",
       "  </thead>\n",
       "  <tbody>\n",
       "    <tr>\n",
       "      <th>0</th>\n",
       "      <td>-0.231902</td>\n",
       "      <td>-1.168745</td>\n",
       "      <td>-0.080295</td>\n",
       "      <td>0.598883</td>\n",
       "      <td>0.279221</td>\n",
       "      <td>0.185315</td>\n",
       "      <td>0.292807</td>\n",
       "      <td>0.350000</td>\n",
       "      <td>0</td>\n",
       "      <td>0</td>\n",
       "      <td>...</td>\n",
       "      <td>0.109935</td>\n",
       "      <td>0.813230</td>\n",
       "      <td>0.076835</td>\n",
       "      <td>0.274317</td>\n",
       "      <td>0.0</td>\n",
       "      <td>0.909460</td>\n",
       "      <td>69</td>\n",
       "      <td>86.0</td>\n",
       "      <td>30</td>\n",
       "      <td>7</td>\n",
       "    </tr>\n",
       "    <tr>\n",
       "      <th>1</th>\n",
       "      <td>0.405261</td>\n",
       "      <td>1.060905</td>\n",
       "      <td>2.296375</td>\n",
       "      <td>0.774873</td>\n",
       "      <td>0.848639</td>\n",
       "      <td>0.614156</td>\n",
       "      <td>0.513147</td>\n",
       "      <td>0.975087</td>\n",
       "      <td>0</td>\n",
       "      <td>1</td>\n",
       "      <td>...</td>\n",
       "      <td>0.115985</td>\n",
       "      <td>0.793715</td>\n",
       "      <td>0.090250</td>\n",
       "      <td>0.351800</td>\n",
       "      <td>0.0</td>\n",
       "      <td>0.157056</td>\n",
       "      <td>623</td>\n",
       "      <td>133.0</td>\n",
       "      <td>26</td>\n",
       "      <td>20</td>\n",
       "    </tr>\n",
       "    <tr>\n",
       "      <th>2</th>\n",
       "      <td>-0.171067</td>\n",
       "      <td>-0.500076</td>\n",
       "      <td>-2.312730</td>\n",
       "      <td>0.548727</td>\n",
       "      <td>0.242347</td>\n",
       "      <td>0.130950</td>\n",
       "      <td>0.242445</td>\n",
       "      <td>0.300000</td>\n",
       "      <td>0</td>\n",
       "      <td>0</td>\n",
       "      <td>...</td>\n",
       "      <td>0.085765</td>\n",
       "      <td>0.817340</td>\n",
       "      <td>0.096915</td>\n",
       "      <td>0.279591</td>\n",
       "      <td>0.0</td>\n",
       "      <td>0.445349</td>\n",
       "      <td>32</td>\n",
       "      <td>3.0</td>\n",
       "      <td>3</td>\n",
       "      <td>6</td>\n",
       "    </tr>\n",
       "    <tr>\n",
       "      <th>3</th>\n",
       "      <td>-0.085814</td>\n",
       "      <td>-0.748035</td>\n",
       "      <td>-1.507481</td>\n",
       "      <td>0.611501</td>\n",
       "      <td>0.360119</td>\n",
       "      <td>0.180055</td>\n",
       "      <td>0.277793</td>\n",
       "      <td>0.316038</td>\n",
       "      <td>0</td>\n",
       "      <td>0</td>\n",
       "      <td>...</td>\n",
       "      <td>0.108680</td>\n",
       "      <td>0.781135</td>\n",
       "      <td>0.110190</td>\n",
       "      <td>0.290277</td>\n",
       "      <td>0.0</td>\n",
       "      <td>0.256665</td>\n",
       "      <td>55</td>\n",
       "      <td>104.0</td>\n",
       "      <td>29</td>\n",
       "      <td>22</td>\n",
       "    </tr>\n",
       "    <tr>\n",
       "      <th>4</th>\n",
       "      <td>0.595367</td>\n",
       "      <td>1.347730</td>\n",
       "      <td>2.010573</td>\n",
       "      <td>0.700217</td>\n",
       "      <td>0.698661</td>\n",
       "      <td>0.430655</td>\n",
       "      <td>0.554609</td>\n",
       "      <td>0.763889</td>\n",
       "      <td>0</td>\n",
       "      <td>1</td>\n",
       "      <td>...</td>\n",
       "      <td>0.065145</td>\n",
       "      <td>0.860550</td>\n",
       "      <td>0.074320</td>\n",
       "      <td>0.300823</td>\n",
       "      <td>0.0</td>\n",
       "      <td>0.431149</td>\n",
       "      <td>37</td>\n",
       "      <td>36.0</td>\n",
       "      <td>8</td>\n",
       "      <td>8</td>\n",
       "    </tr>\n",
       "  </tbody>\n",
       "</table>\n",
       "<p>5 rows × 42 columns</p>\n",
       "</div>"
      ],
      "text/plain": [
       "   politics_sites2  politics_sites1  politics_followed  lowqual_pr2019_crowd   \n",
       "0        -0.231902        -1.168745          -0.080295              0.598883  \\\n",
       "1         0.405261         1.060905           2.296375              0.774873   \n",
       "2        -0.171067        -0.500076          -2.312730              0.548727   \n",
       "3        -0.085814        -0.748035          -1.507481              0.611501   \n",
       "4         0.595367         1.347730           2.010573              0.700217   \n",
       "\n",
       "   lowqual_pr2019_fc  lowqual_afm  lowqual_mbfc  lowqual_lasser2019   \n",
       "0           0.279221     0.185315      0.292807            0.350000  \\\n",
       "1           0.848639     0.614156      0.513147            0.975087   \n",
       "2           0.242347     0.130950      0.242445            0.300000   \n",
       "3           0.360119     0.180055      0.277793            0.316038   \n",
       "4           0.698661     0.430655      0.554609            0.763889   \n",
       "\n",
       "   suspended  politics_hashtag  ...  valence_neg  valence_neu  valence_pos   \n",
       "0          0                 0  ...     0.109935     0.813230     0.076835  \\\n",
       "1          0                 1  ...     0.115985     0.793715     0.090250   \n",
       "2          0                 0  ...     0.085765     0.817340     0.096915   \n",
       "3          0                 0  ...     0.108680     0.781135     0.110190   \n",
       "4          0                 1  ...     0.065145     0.860550     0.074320   \n",
       "\n",
       "   politics_sites2_ideo_std  hashtag_ideo_std  barbera_std   \n",
       "0                  0.274317               0.0     0.909460  \\\n",
       "1                  0.351800               0.0     0.157056   \n",
       "2                  0.279591               0.0     0.445349   \n",
       "3                  0.290277               0.0     0.256665   \n",
       "4                  0.300823               0.0     0.431149   \n",
       "\n",
       "   politics_sites1_std  repeated_tweet_count  freq_pr_1h  bad_domain_count  \n",
       "0                   69                  86.0          30                 7  \n",
       "1                  623                 133.0          26                20  \n",
       "2                   32                   3.0           3                 6  \n",
       "3                   55                 104.0          29                22  \n",
       "4                   37                  36.0           8                 8  \n",
       "\n",
       "[5 rows x 42 columns]"
      ]
     },
     "execution_count": 4,
     "metadata": {},
     "output_type": "execute_result"
    }
   ],
   "source": [
    "data = pd.read_csv('mosleh_et_al_data.csv')\n",
    "data.head()"
   ]
  },
  {
   "cell_type": "markdown",
   "metadata": {},
   "source": [
    "## Twitter Suspensions after the 2020 Election\n",
    "\n",
    "Show, using crosstabulation, that accounts that shared `#Trump2020` during the election were about 4.4 times more likely to be subsequently suspended than the accounts that shared `#VoteBidenHarris2020` (relevant columns: `politics_hashtag` and `suspended`). Then perform a $\\chi^2$ test on the contingency table and explain the results."
   ]
  },
  {
   "cell_type": "code",
   "execution_count": 5,
   "metadata": {},
   "outputs": [
    {
     "data": {
      "text/html": [
       "<div>\n",
       "<style scoped>\n",
       "    .dataframe tbody tr th:only-of-type {\n",
       "        vertical-align: middle;\n",
       "    }\n",
       "\n",
       "    .dataframe tbody tr th {\n",
       "        vertical-align: top;\n",
       "    }\n",
       "\n",
       "    .dataframe thead th {\n",
       "        text-align: right;\n",
       "    }\n",
       "</style>\n",
       "<table border=\"1\" class=\"dataframe\">\n",
       "  <thead>\n",
       "    <tr style=\"text-align: right;\">\n",
       "      <th>suspended</th>\n",
       "      <th>0</th>\n",
       "      <th>1</th>\n",
       "    </tr>\n",
       "    <tr>\n",
       "      <th>politics_hashtag</th>\n",
       "      <th></th>\n",
       "      <th></th>\n",
       "    </tr>\n",
       "  </thead>\n",
       "  <tbody>\n",
       "    <tr>\n",
       "      <th>0</th>\n",
       "      <td>4295</td>\n",
       "      <td>200</td>\n",
       "    </tr>\n",
       "    <tr>\n",
       "      <th>1</th>\n",
       "      <td>3623</td>\n",
       "      <td>882</td>\n",
       "    </tr>\n",
       "  </tbody>\n",
       "</table>\n",
       "</div>"
      ],
      "text/plain": [
       "suspended            0    1\n",
       "politics_hashtag           \n",
       "0                 4295  200\n",
       "1                 3623  882"
      ]
     },
     "execution_count": 5,
     "metadata": {},
     "output_type": "execute_result"
    }
   ],
   "source": [
    "table = pd.crosstab(\n",
    "  index=data['politics_hashtag'],\n",
    "  columns=data['suspended'],\n",
    ")\n",
    "table"
   ]
  },
  {
   "cell_type": "markdown",
   "metadata": {},
   "source": [
    "Using the results of the Crosstab Table, we can see that the republicans were about 4.41 times more likely to be subsequently suspended than the accounts of the democrats."
   ]
  },
  {
   "cell_type": "code",
   "execution_count": 6,
   "metadata": {},
   "outputs": [
    {
     "data": {
      "text/plain": [
       "4.41"
      ]
     },
     "execution_count": 6,
     "metadata": {},
     "output_type": "execute_result"
    }
   ],
   "source": [
    "ratio = table.loc[1, 1] / table.loc[0, 1]\n",
    "ratio"
   ]
  },
  {
   "cell_type": "markdown",
   "metadata": {},
   "source": [
    "By performing a $\\chi^2$ test we get the following results:\n",
    "  * $\\chi^2$ statistic:\n",
    "    * **Value:** 485.47\n",
    "    * A high chi-square value, like 485.47, indicates a substantial deviation from what we would expect if there were no realtionship between account suspendion and political party.\n",
    "  * p-Value:\n",
    "    * **Value:** $1.38 \\times 10^{-107}$\n",
    "    * The p-value indicates the probability of observing a chi-square a chi-square value as extreme as 485.47 (or more extreme) under the null hypothesis that account suspension and political party affiliation are independent.\n",
    "    * A p-value this small (essentially 0) is far below any conventional significance level. This strongly suggests that the null hypothesis of independence can be rejected.\n",
    "  * Significance:\n",
    "    * **Result:** True\n",
    "    * The significance result confirms that the p-value is below the pre-determined significance threshold (**here 5%**).\n",
    "We can observe from the results that the account suspension is significantly associated with the political party affiliation."
   ]
  },
  {
   "cell_type": "code",
   "execution_count": 7,
   "metadata": {},
   "outputs": [
    {
     "data": {
      "text/plain": [
       "(485.46706126582285, 1.3808204811294585e-107, True)"
      ]
     },
     "execution_count": 7,
     "metadata": {},
     "output_type": "execute_result"
    }
   ],
   "source": [
    "chi2, p, dof, expected = chi2_contingency(table)\n",
    "significant = p < 0.05 # 5% significance level\n",
    "\n",
    "chi2, p, significant"
   ]
  },
  {
   "cell_type": "markdown",
   "metadata": {},
   "source": [
    "## Distributions of Relative Frequency of Low Quality\n",
    "\n",
    "Plot the distributions of low-quality sharing as determined by eight professional fact-checkers (column `lowqual_pr2019_fc`), grouped by `politics_hashtag`. The $x$-axis should be standardized using z-scores. The distributions should look like the following figure."
   ]
  },
  {
   "cell_type": "markdown",
   "metadata": {},
   "source": [
    "<img src=\"fig_1.svg\"/>"
   ]
  },
  {
   "cell_type": "markdown",
   "metadata": {},
   "source": [
    "We convert the `lowqual_pr2019_fc` values, to their z-score and save the results in a new column `lowqual_pr2019_fc_zscore`."
   ]
  },
  {
   "cell_type": "code",
   "execution_count": 8,
   "metadata": {},
   "outputs": [],
   "source": [
    "data['lowqual_pr2019_fc_zscore'] = zscore(\n",
    "  a = data['lowqual_pr2019_fc'],\n",
    "  nan_policy='omit'\n",
    ")"
   ]
  },
  {
   "cell_type": "code",
   "execution_count": 9,
   "metadata": {},
   "outputs": [
    {
     "data": {
      "text/plain": [
       "Text(0, 0.5, 'Frequency')"
      ]
     },
     "execution_count": 9,
     "metadata": {},
     "output_type": "execute_result"
    },
    {
     "data": {
      "image/png": "[encoded data removed]",
      "text/plain": [
       "<Figure size 900x400 with 1 Axes>"
      ]
     },
     "metadata": {},
     "output_type": "display_data"
    }
   ],
   "source": [
    "plt.figure(figsize=(9, 4))\n",
    "\n",
    "sns.kdeplot(\n",
    "    data = data,\n",
    "    x = 'lowqual_pr2019_fc_zscore',\n",
    "    hue = 'politics_hashtag',\n",
    "    fill= True,\n",
    ")\n",
    "\n",
    "plt.xlabel('Low-quality news sharing')\n",
    "plt.ylabel('Frequency')"
   ]
  },
  {
   "cell_type": "code",
   "execution_count": 10,
   "metadata": {},
   "outputs": [],
   "source": [
    "## TODO: Add observations here"
   ]
  },
  {
   "cell_type": "markdown",
   "metadata": {},
   "source": [
    "Having done, that, proceed to do the same with low-quality sharing as determined by crowdsourcing from 971 participants from the USA (column `lowqual_pr2019_crowd`). The distributions should look like the following figure.\n",
    "\n",
    "<img src=\"fig_2.svg\" />"
   ]
  },
  {
   "cell_type": "code",
   "execution_count": 11,
   "metadata": {},
   "outputs": [],
   "source": [
    "data['lowqual_pr2019_crowd_zscore'] = zscore(\n",
    "  a = data['lowqual_pr2019_crowd'],\n",
    "  nan_policy='omit'\n",
    ")"
   ]
  },
  {
   "cell_type": "code",
   "execution_count": 12,
   "metadata": {},
   "outputs": [
    {
     "data": {
      "text/plain": [
       "Text(0, 0.5, 'Frequency')"
      ]
     },
     "execution_count": 12,
     "metadata": {},
     "output_type": "execute_result"
    },
    {
     "data": {
      "image/png": "[encoded data removed]",
      "text/plain": [
       "<Figure size 900x400 with 1 Axes>"
      ]
     },
     "metadata": {},
     "output_type": "display_data"
    }
   ],
   "source": [
    "plt.figure(figsize=(9, 4))\n",
    "\n",
    "sns.kdeplot(\n",
    "    data = data,\n",
    "    x = 'lowqual_pr2019_crowd_zscore',\n",
    "    hue = 'politics_hashtag',\n",
    "    fill= True,\n",
    ")\n",
    "\n",
    "plt.xlabel('Low-quality news sharing')\n",
    "plt.ylabel('Frequency')"
   ]
  },
  {
   "cell_type": "markdown",
   "metadata": {},
   "source": [
    "Show the results of the t-statistic for these two groups as well."
   ]
  },
  {
   "cell_type": "code",
   "execution_count": 13,
   "metadata": {},
   "outputs": [],
   "source": [
    "def perform_t_statistic(column):\n",
    "  groups = data.dropna(subset=[column]).groupby('politics_hashtag')[column].apply(list)\n",
    "\n",
    "  ttest= stats.ttest_ind(\n",
    "    groups[0],\n",
    "    groups[1]\n",
    "  ) \n",
    "\n",
    "  return ttest"
   ]
  },
  {
   "cell_type": "code",
   "execution_count": 14,
   "metadata": {},
   "outputs": [
    {
     "name": "stdout",
     "output_type": "stream",
     "text": [
      "TtestResult(statistic=-119.22334314832361, pvalue=0.0, df=8943.0)\n"
     ]
    }
   ],
   "source": [
    "ttest = perform_t_statistic('lowqual_pr2019_fc_zscore')\n",
    "\n",
    "print(ttest)"
   ]
  },
  {
   "cell_type": "markdown",
   "metadata": {},
   "source": [
    "What we can observe from the results of the **Two Sample T-Test** is:\n",
    "\n",
    "  * **T-statistic:**\n",
    "    * A t-statistic of -119.22 is extremely large in absolute value, suggesting a very significant difference between the means of the two groups.\n",
    "    * The negative sign indicates that the republicans has a lowere mean of low quality news sharing, compared to the democrats.\n",
    "  * **P-value:**\n",
    "    * A p-value of 0.0 is essentially zero, meaning the difference between the two groupd is highly statistically significant.\n",
    "    * This indicates that it is extremely unlikely that the observed difference in means between the two groups is due to random chance. \n",
    "    In practical terms, this means the groupd are very different from each other in terms of their low-quality news sharing.\n",
    "  * **Degrees of freedom:**\n",
    "    * The degrees of freedom (df = 8943) show that since the sample size is quite large, the statistical power of the test is increased."
   ]
  },
  {
   "cell_type": "code",
   "execution_count": 15,
   "metadata": {},
   "outputs": [
    {
     "name": "stdout",
     "output_type": "stream",
     "text": [
      "TtestResult(statistic=-102.46401373884626, pvalue=0.0, df=8943.0)\n"
     ]
    }
   ],
   "source": [
    "ttest = perform_t_statistic('lowqual_pr2019_crowd_zscore')\n",
    "\n",
    "print(ttest)"
   ]
  },
  {
   "cell_type": "markdown",
   "metadata": {},
   "source": [
    "When using low-quality sharing data determined through crowdsourcing from 971 participants in the USA, we obtain similar results. This further strengthens the reliability of our findings."
   ]
  },
  {
   "cell_type": "markdown",
   "metadata": {},
   "source": [
    "## Low-quality News Sharing on Twitter\n",
    "\n",
    "We will proceed to examine low-quality news sharing on Twitter on a more quantitave manner, using the t-test. In particular, we will use the t-test based on groups of users depending on their `politics_hashtag` and various assessments of low-quality news sharing. We will quantify the effect size of the t-test using Cohen's $d$ and Hedges' $g$."
   ]
  },
  {
   "cell_type": "markdown",
   "metadata": {},
   "source": [
    "Cohen's $d$ is defined as the difference between two means divided by a standard deviation for the data, i.e.:\n",
    "\n",
    "$$ d = \\frac{\\bar{x}_{1} - \\bar{x}_{2}}{s} $$\n",
    "\n",
    "$s$, the pooled standard deviation for two independent samples is defined as:\n",
    "\n",
    "$$ s=\\sqrt{\\frac{(n_{1}-1)s_{1}^{2}+(n_{2}-1)s_{2}^{2}}{n_{1}+n_{2}-2}} $$\n",
    "\n",
    "where $n_1$, $n_2$ is the size of each sample and the variance of $s_1$ is defined as:\n",
    "\n",
    "$$ s_{1}^{2}=\\frac{1}{n_{1}-1} \\sum _{i=1}^{n_{1}}(x_{1,i}-{\\bar {x}}_{1})^{2} $$\n",
    "\n",
    "with the variance of $s_2$ defined similarly. The values of Cohen's $d$ can be interpreted as follows:\n",
    "\n",
    "| Effect Size | $d$  |\n",
    "|-------------|------|\n",
    "| Very small  | 0.01 |\n",
    "| Small\t      | 0.20 |\n",
    "| Medium\t  | 0.50 |\n",
    "| Large\t      | 0.80 |\n",
    "| Very large  | 1.20 |\n",
    "| Huge        | 2.00 |\n",
    "\n",
    "Hedges' $g$ corrects Cohen's $d$ for bias in small sample sizes and is defined as:\n",
    "\n",
    "$$ 1 - \\bigg(\\frac{3}{4  (n_1 + n_2) - 9)}\\bigg)d $$"
   ]
  },
  {
   "cell_type": "markdown",
   "metadata": {},
   "source": [
    "You will perform a t-test statistic and report Cohen's $d$ and Hedges' $g$ for the following, grouped by `politics_hashtag`.\n",
    "\n",
    "* `lowqual_pr2019_fc` (sites rated by fact-checkers)\n",
    "* `lowqual_afm` (sites rated by Ad Fontes media, <https://adfontesmedia.com/>)\n",
    "* `lowqual_mbfc` (sites rated by Media Bias/Fact Check, <https://mediabiasfactcheck.com/>)\n",
    "* `lowqual_lasser2019` (sites rated by Laser et al., https://doi.org/10.1093/pnasnexus/pgac186)\n",
    "* `lowqual_pr2019_crowd` (sites rated by crowdsourcing 971 participants from the USA)\n",
    "* `lowqual_pr2019_crowdrep` (sites rated by the republicans among the 971 participants of above)"
   ]
  },
  {
   "cell_type": "code",
   "execution_count": 16,
   "metadata": {},
   "outputs": [],
   "source": [
    "# Function to calculate pooled standard deviation\n",
    "def pooled_std(group1, group2):\n",
    "    n1, n2 = len(group1), len(group2)\n",
    "    s1, s2 = np.std(group1, ddof=1), np.std(group2, ddof=1)\n",
    "    return np.sqrt(((n1 - 1) * s1**2 + (n2 - 1) * s2**2) / (n1 + n2 - 2))\n",
    "\n",
    "# Function to calculate Cohen's d\n",
    "def cohens_d(group1, group2):\n",
    "    s_pooled = pooled_std(group1, group2)\n",
    "    return (np.mean(group1) - np.mean(group2)) / s_pooled\n",
    "\n",
    "# Function to calculate Hedges' g\n",
    "def hedges_g(cohens_d, n1, n2):\n",
    "    correction = 1 - (3 / (4 * (n1 + n2) - 9))\n",
    "    return cohens_d * correction\n",
    "\n",
    "def calculate_d_and_g(column):\n",
    "    groups = data.dropna(subset=[column]).groupby('politics_hashtag')[column].apply(list)\n",
    "\n",
    "    d = cohens_d(groups[0], groups[1])\n",
    "    g = hedges_g(d, len(groups[0]), len(groups[1]))\n",
    "\n",
    "    return d, g"
   ]
  },
  {
   "cell_type": "code",
   "execution_count": 17,
   "metadata": {},
   "outputs": [],
   "source": [
    "columns = [\n",
    "    'lowqual_pr2019_fc',\n",
    "    'lowqual_afm',\n",
    "    'lowqual_mbfc',\n",
    "    'lowqual_lasser2019',\n",
    "    'lowqual_pr2019_crowd',\n",
    "    'lowqual_pr2019_crowdrep'\n",
    "]"
   ]
  },
  {
   "cell_type": "code",
   "execution_count": 18,
   "metadata": {},
   "outputs": [
    {
     "data": {
      "text/html": [
       "<div>\n",
       "<style scoped>\n",
       "    .dataframe tbody tr th:only-of-type {\n",
       "        vertical-align: middle;\n",
       "    }\n",
       "\n",
       "    .dataframe tbody tr th {\n",
       "        vertical-align: top;\n",
       "    }\n",
       "\n",
       "    .dataframe thead th {\n",
       "        text-align: right;\n",
       "    }\n",
       "</style>\n",
       "<table border=\"1\" class=\"dataframe\">\n",
       "  <thead>\n",
       "    <tr style=\"text-align: right;\">\n",
       "      <th></th>\n",
       "      <th>Column</th>\n",
       "      <th>T-statistic</th>\n",
       "      <th>P-value</th>\n",
       "      <th>Cohen's d</th>\n",
       "      <th>Hedges' g</th>\n",
       "    </tr>\n",
       "  </thead>\n",
       "  <tbody>\n",
       "    <tr>\n",
       "      <th>0</th>\n",
       "      <td>lowqual_pr2019_fc</td>\n",
       "      <td>-119.223343</td>\n",
       "      <td>0.0</td>\n",
       "      <td>-2.521188</td>\n",
       "      <td>-2.520977</td>\n",
       "    </tr>\n",
       "    <tr>\n",
       "      <th>1</th>\n",
       "      <td>lowqual_afm</td>\n",
       "      <td>-102.677719</td>\n",
       "      <td>0.0</td>\n",
       "      <td>-2.164878</td>\n",
       "      <td>-2.164698</td>\n",
       "    </tr>\n",
       "    <tr>\n",
       "      <th>2</th>\n",
       "      <td>lowqual_mbfc</td>\n",
       "      <td>-97.592231</td>\n",
       "      <td>0.0</td>\n",
       "      <td>-2.057540</td>\n",
       "      <td>-2.057369</td>\n",
       "    </tr>\n",
       "    <tr>\n",
       "      <th>3</th>\n",
       "      <td>lowqual_lasser2019</td>\n",
       "      <td>-102.633746</td>\n",
       "      <td>0.0</td>\n",
       "      <td>-2.163831</td>\n",
       "      <td>-2.163650</td>\n",
       "    </tr>\n",
       "    <tr>\n",
       "      <th>4</th>\n",
       "      <td>lowqual_pr2019_crowd</td>\n",
       "      <td>-102.464014</td>\n",
       "      <td>0.0</td>\n",
       "      <td>-2.166782</td>\n",
       "      <td>-2.166601</td>\n",
       "    </tr>\n",
       "    <tr>\n",
       "      <th>5</th>\n",
       "      <td>lowqual_pr2019_crowdrep</td>\n",
       "      <td>-61.071485</td>\n",
       "      <td>0.0</td>\n",
       "      <td>-1.291464</td>\n",
       "      <td>-1.291356</td>\n",
       "    </tr>\n",
       "  </tbody>\n",
       "</table>\n",
       "</div>"
      ],
      "text/plain": [
       "                    Column  T-statistic  P-value  Cohen's d  Hedges' g\n",
       "0        lowqual_pr2019_fc  -119.223343      0.0  -2.521188  -2.520977\n",
       "1              lowqual_afm  -102.677719      0.0  -2.164878  -2.164698\n",
       "2             lowqual_mbfc   -97.592231      0.0  -2.057540  -2.057369\n",
       "3       lowqual_lasser2019  -102.633746      0.0  -2.163831  -2.163650\n",
       "4     lowqual_pr2019_crowd  -102.464014      0.0  -2.166782  -2.166601\n",
       "5  lowqual_pr2019_crowdrep   -61.071485      0.0  -1.291464  -1.291356"
      ]
     },
     "execution_count": 18,
     "metadata": {},
     "output_type": "execute_result"
    }
   ],
   "source": [
    "results = []\n",
    "\n",
    "# Perform the test and calculations for each column\n",
    "for column in columns:\n",
    "    t_stat, p_val = perform_t_statistic(column)\n",
    "    \n",
    "    d, g = calculate_d_and_g(column)\n",
    "    \n",
    "    results.append({\n",
    "        'Column': column,\n",
    "        'T-statistic': t_stat,\n",
    "        'P-value': p_val,\n",
    "        'Cohen\\'s d': d,\n",
    "        'Hedges\\' g': g\n",
    "    })\n",
    "\n",
    "results_df = pd.DataFrame(results)\n",
    "results_df"
   ]
  },
  {
   "cell_type": "markdown",
   "metadata": {},
   "source": [
    "1. **T-statistics**:  \n",
    "   - The negative t-statistics indicate that the mean low-quality news sharing is higher for democrats than for republicans in all categories.  \n",
    "   - The magnitude of the t-statistics reflects the strength of this difference, with larger absolute values indicating greater differences between the groups.  \n",
    "\n",
    "2. **P-values**:  \n",
    "   - All p-values are 0.0, indicating that the differences between the two groups are statistically significant.  \n",
    "   - This means the observed differences in low-quality news sharing are highly unlikely to have occurred by chance.  \n",
    "\n",
    "3. **Effect Sizes**:  \n",
    "   - **Cohen’s d** and **Hedges’ g** quantify the magnitude of the differences:  \n",
    "     - For most categories, the effect sizes are large (`|d| > 0.8`), suggesting substantial differences between the groups.  \n",
    "     - The smallest effect size is for `lowqual_pr2019_crowdrep` (`Cohen's d = -1.291356`), indicating a relatively smaller, though still large, difference for the ratings provided by Republicans in the crowdsourcing dataset.  \n",
    "\n",
    "4. **Consistency Across Columns**:  \n",
    "   - The results are consistent across all measures of low-quality news sharing.  \n",
    "   - This supports the conclusion that Democrats are more likely to share low-quality news, regardless of how it is assessed (e.g., by fact-checkers, Ad Fontes Media, or crowdsourcing).  "
   ]
  },
  {
   "cell_type": "markdown",
   "metadata": {},
   "source": [
    "### Sharing Lower-quality News Sources and Conservative Ideology"
   ]
  },
  {
   "cell_type": "markdown",
   "metadata": {},
   "source": [
    "To see if there is a correlation between lower-quality news sources and conservative ideology, you will perform pairwise correlations between, on the one hand:\n",
    "\n",
    " * `lowqual_pr2019_fc`\n",
    " * `lowqual_lasser2019`\n",
    " * `lowqual_mbfc`\n",
    " * `lowqual_afm`\n",
    " * `lowqual_pr2019_crowd`\n",
    " * `lowqual_pr2019_crowdrep`\n",
    "\n",
    "and on the other hand:\n",
    "\n",
    " * `politics_followed` (political ideology estimated on the basis of Twitter accounts user followed)\n",
    " * `politics_hashtag`\n",
    " * `politics_sites1` (political ideology estimated on the basis of the news sites the users share, <https://doi.org/10.1126/science.aau2706>)\n",
    " * `politics_sites2` (political ideology estimated on the basis of the news sites ther users share, <https://doi.org/10.31219/osf.io/ch8gj>)\n",
    "\n",
    "You should display the results in a heatmap like the following:\n",
    "\n",
    "<img src=\"fig_3.svg\"/>"
   ]
  },
  {
   "cell_type": "code",
   "execution_count": 19,
   "metadata": {},
   "outputs": [
    {
     "data": {
      "text/html": [
       "<div>\n",
       "<style scoped>\n",
       "    .dataframe tbody tr th:only-of-type {\n",
       "        vertical-align: middle;\n",
       "    }\n",
       "\n",
       "    .dataframe tbody tr th {\n",
       "        vertical-align: top;\n",
       "    }\n",
       "\n",
       "    .dataframe thead th {\n",
       "        text-align: right;\n",
       "    }\n",
       "</style>\n",
       "<table border=\"1\" class=\"dataframe\">\n",
       "  <thead>\n",
       "    <tr style=\"text-align: right;\">\n",
       "      <th></th>\n",
       "      <th>politics_followed</th>\n",
       "      <th>politics_hashtag</th>\n",
       "      <th>politics_sites1</th>\n",
       "      <th>politics_sites2</th>\n",
       "    </tr>\n",
       "  </thead>\n",
       "  <tbody>\n",
       "    <tr>\n",
       "      <th>lowqual_pr2019_fc</th>\n",
       "      <td>0.809501</td>\n",
       "      <td>0.783463</td>\n",
       "      <td>0.876237</td>\n",
       "      <td>0.854197</td>\n",
       "    </tr>\n",
       "    <tr>\n",
       "      <th>lowqual_lasser2019</th>\n",
       "      <td>0.777250</td>\n",
       "      <td>0.734398</td>\n",
       "      <td>0.835576</td>\n",
       "      <td>0.851794</td>\n",
       "    </tr>\n",
       "    <tr>\n",
       "      <th>lowqual_mbfc</th>\n",
       "      <td>0.748146</td>\n",
       "      <td>0.717101</td>\n",
       "      <td>0.774779</td>\n",
       "      <td>0.774266</td>\n",
       "    </tr>\n",
       "    <tr>\n",
       "      <th>lowqual_afm</th>\n",
       "      <td>0.768887</td>\n",
       "      <td>0.734562</td>\n",
       "      <td>0.845285</td>\n",
       "      <td>0.833632</td>\n",
       "    </tr>\n",
       "    <tr>\n",
       "      <th>lowqual_pr2019_crowd</th>\n",
       "      <td>0.754001</td>\n",
       "      <td>0.734856</td>\n",
       "      <td>0.811904</td>\n",
       "      <td>0.784861</td>\n",
       "    </tr>\n",
       "    <tr>\n",
       "      <th>lowqual_pr2019_crowdrep</th>\n",
       "      <td>0.540993</td>\n",
       "      <td>0.542505</td>\n",
       "      <td>0.576336</td>\n",
       "      <td>0.552613</td>\n",
       "    </tr>\n",
       "  </tbody>\n",
       "</table>\n",
       "</div>"
      ],
      "text/plain": [
       "                         politics_followed  politics_hashtag  politics_sites1   \n",
       "lowqual_pr2019_fc                 0.809501          0.783463         0.876237  \\\n",
       "lowqual_lasser2019                0.777250          0.734398         0.835576   \n",
       "lowqual_mbfc                      0.748146          0.717101         0.774779   \n",
       "lowqual_afm                       0.768887          0.734562         0.845285   \n",
       "lowqual_pr2019_crowd              0.754001          0.734856         0.811904   \n",
       "lowqual_pr2019_crowdrep           0.540993          0.542505         0.576336   \n",
       "\n",
       "                         politics_sites2  \n",
       "lowqual_pr2019_fc               0.854197  \n",
       "lowqual_lasser2019              0.851794  \n",
       "lowqual_mbfc                    0.774266  \n",
       "lowqual_afm                     0.833632  \n",
       "lowqual_pr2019_crowd            0.784861  \n",
       "lowqual_pr2019_crowdrep         0.552613  "
      ]
     },
     "execution_count": 19,
     "metadata": {},
     "output_type": "execute_result"
    }
   ],
   "source": [
    "low_quality_columns = [\n",
    "    'lowqual_pr2019_fc', 'lowqual_lasser2019', 'lowqual_mbfc', \n",
    "    'lowqual_afm', 'lowqual_pr2019_crowd', 'lowqual_pr2019_crowdrep'\n",
    "]\n",
    "political_ideology_columns = [\n",
    "    'politics_followed', 'politics_hashtag', 'politics_sites1', 'politics_sites2'\n",
    "]\n",
    "\n",
    "# Compute and display correlations\n",
    "correlation_results = data[low_quality_columns + political_ideology_columns].corr().loc[low_quality_columns, political_ideology_columns]\n",
    "correlation_results"
   ]
  },
  {
   "cell_type": "code",
   "execution_count": 20,
   "metadata": {},
   "outputs": [
    {
     "data": {
      "text/plain": [
       "(array([0.5, 1.5, 2.5, 3.5]),\n",
       " [Text(0.5, 0, 'politics_followed'),\n",
       "  Text(1.5, 0, 'politics_hashtag'),\n",
       "  Text(2.5, 0, 'politics_sites1'),\n",
       "  Text(3.5, 0, 'politics_sites2')])"
      ]
     },
     "execution_count": 20,
     "metadata": {},
     "output_type": "execute_result"
    },
    {
     "data": {
      "image/png": "[encoded data removed]",
      "text/plain": [
       "<Figure size 640x480 with 2 Axes>"
      ]
     },
     "metadata": {},
     "output_type": "display_data"
    }
   ],
   "source": [
    "sns.heatmap(\n",
    "    correlation_results,\n",
    "    annot=True,\n",
    "    linewidth=0.5,\n",
    "    cmap='Blues',\n",
    ")\n",
    "\n",
    "plt.xticks(rotation=45)"
   ]
  },
  {
   "cell_type": "markdown",
   "metadata": {},
   "source": [
    "## News Sharing Can Help Explain Suspension, Using Single Predictors"
   ]
  },
  {
   "cell_type": "markdown",
   "metadata": {},
   "source": [
    "You will use the following predictors to predict whether a user was suspended or not:\n",
    "\n",
    "  * `politics_hashtag`\n",
    "  * `politics_sites1`\n",
    "  * `politics_sites2`\n",
    "  * `politics_followed`\n",
    "  * `lowqual_afm`\n",
    "  * `lowqual_mbfc`\n",
    "  * `lowqual_lasser2019`\n",
    "  * `lowqual_pr2019_fc`\n",
    "  * `lowqual_pr2019_crowd`\n",
    "\n",
    "The predictions will be with a probit model. The probit model is an alternative to logit, but while the latter uses the logit as the *link function*, the probit model uses the inverse of the cumulative distribution function (CDF) of the standard normal distribution (denoted as $\\Phi^{-1}$) as the link function. Mathematically:\n",
    "\n",
    "$$ \\Phi^{-1}(P(Y = 1 | X)) = X\\beta $$\n",
    "\n",
    "where $P(Y = 1  | X)$ is the probability of the event occurring, $X$ represents the independent variables, and $\\beta$ is the vector of coefficients.\n",
    "\n",
    "The predictions will be evaluated with the AUC of the ROC curve. To get confidence intervals, repeat each prediction 100 times by using the boostrap method. \n",
    "\n",
    "Print the AUC and the confidence intervals in a table. Then use them to plot all your evaluations and the confidence intervals in a barchart like the following:\n",
    "\n",
    "<img src=\"fig_4.svg\" />"
   ]
  },
  {
   "cell_type": "code",
   "execution_count": 93,
   "metadata": {},
   "outputs": [],
   "source": [
    "def model_prediction_and_evaluation(X, y, n, alpha):\n",
    "  aucs = []\n",
    "  auc_scores = []\n",
    "\n",
    "  for _ in range(n):\n",
    "\n",
    "    X_resampled, y_resampled = resample(X, y)\n",
    "\n",
    "    model = sm.Probit(y_resampled, X_resampled).fit(disp=False)\n",
    "\n",
    "    y_pred = model.predict(X_resampled)\n",
    "\n",
    "    auc = roc_auc_score(y_resampled, y_pred)\n",
    "    aucs.append(auc)\n",
    "\n",
    "  auc_scores = np.mean(aucs)\n",
    "  ci_lower, ci_upper = np.percentile(aucs, [100 * alpha / 2, 100 * (1 - alpha / 2)])\n",
    "\n",
    "  return auc_scores, ci_lower, ci_upper\n"
   ]
  },
  {
   "cell_type": "code",
   "execution_count": null,
   "metadata": {},
   "outputs": [],
   "source": [
    "predictors = [\n",
    "    'politics_hashtag', 'politics_sites1', 'politics_sites2', \n",
    "    'politics_followed', 'lowqual_afm', 'lowqual_mbfc', \n",
    "    'lowqual_lasser2019', 'lowqual_pr2019_fc', 'lowqual_pr2019_crowd'\n",
    "]\n",
    "target = 'suspended'"
   ]
  },
  {
   "cell_type": "code",
   "execution_count": null,
   "metadata": {},
   "outputs": [],
   "source": [
    "results = []\n",
    "\n",
    "for predictor in predictors:\n",
    "  # Clean nan values for predictors\n",
    "  X = data[predictors].copy()\n",
    "  X.fillna(0, inplace=True)\n",
    "\n",
    "  # Clean nan values for the target variable\n",
    "  y = data[target].copy()\n",
    "  y.fillna(0, inplace=True)\n",
    "\n",
    "  auc_scores, ci_lower, ci_upper = model_prediction_and_evaluation(X, y, 100, 0.05)\n",
    "\n",
    "  results.append({\n",
    "    \"Predictor\": predictor, \n",
    "    \"Mean AUC\": auc_scores, \n",
    "    \"CI Lower\": ci_lower, \n",
    "    \"CI Upper\": ci_upper,\n",
    "    \"Confidence Interval\": ci_upper-ci_lower\n",
    "    })\n",
    "  \n",
    "results_df = pd.DataFrame(results)"
   ]
  },
  {
   "cell_type": "code",
   "execution_count": 80,
   "metadata": {},
   "outputs": [
    {
     "data": {
      "text/html": [
       "<div>\n",
       "<style scoped>\n",
       "    .dataframe tbody tr th:only-of-type {\n",
       "        vertical-align: middle;\n",
       "    }\n",
       "\n",
       "    .dataframe tbody tr th {\n",
       "        vertical-align: top;\n",
       "    }\n",
       "\n",
       "    .dataframe thead th {\n",
       "        text-align: right;\n",
       "    }\n",
       "</style>\n",
       "<table border=\"1\" class=\"dataframe\">\n",
       "  <thead>\n",
       "    <tr style=\"text-align: right;\">\n",
       "      <th></th>\n",
       "      <th>Predictor</th>\n",
       "      <th>Mean AUC</th>\n",
       "      <th>CI Lower</th>\n",
       "      <th>CI Upper</th>\n",
       "      <th>Confidence Interval</th>\n",
       "    </tr>\n",
       "  </thead>\n",
       "  <tbody>\n",
       "    <tr>\n",
       "      <th>0</th>\n",
       "      <td>politics_hashtag</td>\n",
       "      <td>0.732989</td>\n",
       "      <td>0.716147</td>\n",
       "      <td>0.748357</td>\n",
       "      <td>0.032209</td>\n",
       "    </tr>\n",
       "    <tr>\n",
       "      <th>1</th>\n",
       "      <td>politics_sites1</td>\n",
       "      <td>0.733552</td>\n",
       "      <td>0.715166</td>\n",
       "      <td>0.747082</td>\n",
       "      <td>0.031916</td>\n",
       "    </tr>\n",
       "    <tr>\n",
       "      <th>2</th>\n",
       "      <td>politics_sites2</td>\n",
       "      <td>0.734050</td>\n",
       "      <td>0.720154</td>\n",
       "      <td>0.748269</td>\n",
       "      <td>0.028116</td>\n",
       "    </tr>\n",
       "    <tr>\n",
       "      <th>3</th>\n",
       "      <td>politics_followed</td>\n",
       "      <td>0.733148</td>\n",
       "      <td>0.719548</td>\n",
       "      <td>0.745060</td>\n",
       "      <td>0.025512</td>\n",
       "    </tr>\n",
       "    <tr>\n",
       "      <th>4</th>\n",
       "      <td>lowqual_afm</td>\n",
       "      <td>0.733726</td>\n",
       "      <td>0.720443</td>\n",
       "      <td>0.750555</td>\n",
       "      <td>0.030112</td>\n",
       "    </tr>\n",
       "    <tr>\n",
       "      <th>5</th>\n",
       "      <td>lowqual_mbfc</td>\n",
       "      <td>0.733248</td>\n",
       "      <td>0.717659</td>\n",
       "      <td>0.748802</td>\n",
       "      <td>0.031142</td>\n",
       "    </tr>\n",
       "    <tr>\n",
       "      <th>6</th>\n",
       "      <td>lowqual_lasser2019</td>\n",
       "      <td>0.733415</td>\n",
       "      <td>0.719325</td>\n",
       "      <td>0.749952</td>\n",
       "      <td>0.030627</td>\n",
       "    </tr>\n",
       "    <tr>\n",
       "      <th>7</th>\n",
       "      <td>lowqual_pr2019_fc</td>\n",
       "      <td>0.733843</td>\n",
       "      <td>0.719911</td>\n",
       "      <td>0.747576</td>\n",
       "      <td>0.027665</td>\n",
       "    </tr>\n",
       "    <tr>\n",
       "      <th>8</th>\n",
       "      <td>lowqual_pr2019_crowd</td>\n",
       "      <td>0.734506</td>\n",
       "      <td>0.720600</td>\n",
       "      <td>0.747561</td>\n",
       "      <td>0.026961</td>\n",
       "    </tr>\n",
       "  </tbody>\n",
       "</table>\n",
       "</div>"
      ],
      "text/plain": [
       "              Predictor  Mean AUC  CI Lower  CI Upper  Confidence Interval\n",
       "0      politics_hashtag  0.732989  0.716147  0.748357             0.032209\n",
       "1       politics_sites1  0.733552  0.715166  0.747082             0.031916\n",
       "2       politics_sites2  0.734050  0.720154  0.748269             0.028116\n",
       "3     politics_followed  0.733148  0.719548  0.745060             0.025512\n",
       "4           lowqual_afm  0.733726  0.720443  0.750555             0.030112\n",
       "5          lowqual_mbfc  0.733248  0.717659  0.748802             0.031142\n",
       "6    lowqual_lasser2019  0.733415  0.719325  0.749952             0.030627\n",
       "7     lowqual_pr2019_fc  0.733843  0.719911  0.747576             0.027665\n",
       "8  lowqual_pr2019_crowd  0.734506  0.720600  0.747561             0.026961"
      ]
     },
     "execution_count": 80,
     "metadata": {},
     "output_type": "execute_result"
    }
   ],
   "source": [
    "results_df"
   ]
  },
  {
   "cell_type": "code",
   "execution_count": 113,
   "metadata": {},
   "outputs": [
    {
     "data": {
      "text/plain": [
       "([<matplotlib.axis.XTick at 0x313549b50>,\n",
       "  <matplotlib.axis.XTick at 0x313549b20>,\n",
       "  <matplotlib.axis.XTick at 0x313549610>,\n",
       "  <matplotlib.axis.XTick at 0x31359a820>,\n",
       "  <matplotlib.axis.XTick at 0x31359afa0>,\n",
       "  <matplotlib.axis.XTick at 0x31359a400>,\n",
       "  <matplotlib.axis.XTick at 0x3135a1b50>,\n",
       "  <matplotlib.axis.XTick at 0x3135a8370>,\n",
       "  <matplotlib.axis.XTick at 0x3135a8b50>],\n",
       " [Text(0, 0, 'politics_hashtag'),\n",
       "  Text(1, 0, 'politics_sites1'),\n",
       "  Text(2, 0, 'politics_sites2'),\n",
       "  Text(3, 0, 'politics_followed'),\n",
       "  Text(4, 0, 'lowqual_afm'),\n",
       "  Text(5, 0, 'lowqual_mbfc'),\n",
       "  Text(6, 0, 'lowqual_lasser2019'),\n",
       "  Text(7, 0, 'lowqual_pr2019_fc'),\n",
       "  Text(8, 0, 'lowqual_pr2019_crowd')])"
      ]
     },
     "execution_count": 113,
     "metadata": {},
     "output_type": "execute_result"
    },
    {
     "data": {
      "image/png": "[encoded data removed]",
      "text/plain": [
       "<Figure size 1000x600 with 1 Axes>"
      ]
     },
     "metadata": {},
     "output_type": "display_data"
    }
   ],
   "source": [
    "plt.figure(figsize=(10, 6))\n",
    "\n",
    "errors = [np.array(results_df['CI Lower']), np.array(results_df['CI Upper'])]\n",
    "\n",
    "# Bar width\n",
    "bar_width = 0.8\n",
    "\n",
    "# Bar positions\n",
    "r1 = np.arange(len(results_df['Mean AUC']))\n",
    "\n",
    "# Create bars\n",
    "plt.bar(\n",
    "    r1,\n",
    "    results_df['Mean AUC'],\n",
    "    width=bar_width,\n",
    "    color=\"skyblue\",\n",
    "    edgecolor=\"black\",\n",
    "    yerr=results_df['Confidence Interval'],\n",
    "    capsize=7,\n",
    "    label=\"AUC Scores\",\n",
    ")\n",
    "\n",
    "# plt.bar(categories, values, yerr=errors, capsize=5)\n",
    "\n",
    "# # General layout\n",
    "plt.xticks(r1, predictors, rotation=45, ha=\"right\")\n",
    "# plt.ylabel(\"AUC Score\")\n",
    "# plt.title(\"AUC Scores and Confidence Intervals for Each Predictor\")\n",
    "# plt.axhline(y=0.5, color=\"red\", linestyle=\"--\", label=\"Random Guessing (AUC = 0.5)\")\n",
    "# plt.legend()\n",
    "\n",
    "# Show plot\n",
    "# plt.tight_layout()\n",
    "# plt.show()"
   ]
  },
  {
   "cell_type": "markdown",
   "metadata": {},
   "source": [
    "## News Sharing Can Help Explain Suspension, Using Multiple Predictors"
   ]
  },
  {
   "cell_type": "markdown",
   "metadata": {},
   "source": [
    "You will also use multiple regression models to predict and explain suspension. \n",
    "\n",
    "Start by filing in missing values in your data by using the column mean. Then log transform, base 10, the variables that are related to Tweeter metrics, i.e.:\n",
    "\n",
    "* `repeated_tweet_count` to `log_repeated_tweet_count`\n",
    "* `freq_pr_1h` (maximum frequency of primary tweets in an hour) to `log_freq_pr_1h`\n",
    "* `num_followers` to `log_num_followers`\n",
    "* `num_friends` to `log_num_friends`\n",
    "\n",
    "Introduce an additional variable, `log_fol`, which should the be base 10 logarithm of `num_friends` over `num_followers` ratio. To prevent out of domain errors, add 1 to each variable when using it in the transforms."
   ]
  },
  {
   "cell_type": "code",
   "execution_count": 26,
   "metadata": {},
   "outputs": [
    {
     "name": "stdout",
     "output_type": "stream",
     "text": [
      "<class 'pandas.core.frame.DataFrame'>\n",
      "RangeIndex: 9000 entries, 0 to 8999\n",
      "Data columns (total 44 columns):\n",
      " #   Column                       Non-Null Count  Dtype  \n",
      "---  ------                       --------------  -----  \n",
      " 0   politics_sites2              9000 non-null   float64\n",
      " 1   politics_sites1              9000 non-null   float64\n",
      " 2   politics_followed            7965 non-null   float64\n",
      " 3   lowqual_pr2019_crowd         8945 non-null   float64\n",
      " 4   lowqual_pr2019_fc            8945 non-null   float64\n",
      " 5   lowqual_afm                  8998 non-null   float64\n",
      " 6   lowqual_mbfc                 8999 non-null   float64\n",
      " 7   lowqual_lasser2019           8999 non-null   float64\n",
      " 8   suspended                    9000 non-null   int64  \n",
      " 9   politics_hashtag             9000 non-null   int64  \n",
      " 10  lowqual_pr2019_crowdrep      8945 non-null   float64\n",
      " 11  num_followers                9000 non-null   int64  \n",
      " 12  num_friends                  9000 non-null   int64  \n",
      " 13  tweets_in_2wk                9000 non-null   int64  \n",
      " 14  botsentinel_score            8978 non-null   float64\n",
      " 15  rewire_abuse                 8974 non-null   float64\n",
      " 16  rewire_hate                  8974 non-null   float64\n",
      " 17  rewire_profanity             8974 non-null   float64\n",
      " 18  rewire_violent               8974 non-null   float64\n",
      " 19  rewire_sexually_explicit     8974 non-null   float64\n",
      " 20  jigsaw_toxicity              8974 non-null   float64\n",
      " 21  jigsaw_severe_toxicity       8974 non-null   float64\n",
      " 22  jigsaw_idenity_attack        8974 non-null   float64\n",
      " 23  jigsaw_insult                8974 non-null   float64\n",
      " 24  jigsaw_profanity             8974 non-null   float64\n",
      " 25  jigsaw_threat                8974 non-null   float64\n",
      " 26  rocklage_valence_std         8829 non-null   float64\n",
      " 27  rocklage_extremity_std       8829 non-null   float64\n",
      " 28  rocklage_emotionality_std    8830 non-null   float64\n",
      " 29  rocklage_certainty_std       8892 non-null   float64\n",
      " 30  liwc_political               8974 non-null   float64\n",
      " 31  moral_outrage                8974 non-null   float64\n",
      " 32  valence_neg                  8974 non-null   float64\n",
      " 33  valence_neu                  8974 non-null   float64\n",
      " 34  valence_pos                  8974 non-null   float64\n",
      " 35  politics_sites2_ideo_std     9000 non-null   float64\n",
      " 36  hashtag_ideo_std             9000 non-null   float64\n",
      " 37  barbera_std                  8373 non-null   float64\n",
      " 38  politics_sites1_std          9000 non-null   int64  \n",
      " 39  repeated_tweet_count         8471 non-null   float64\n",
      " 40  freq_pr_1h                   9000 non-null   int64  \n",
      " 41  bad_domain_count             9000 non-null   int64  \n",
      " 42  lowqual_pr2019_fc_zscore     8945 non-null   float64\n",
      " 43  lowqual_pr2019_crowd_zscore  8945 non-null   float64\n",
      "dtypes: float64(36), int64(8)\n",
      "memory usage: 3.0 MB\n"
     ]
    }
   ],
   "source": [
    "data.info()"
   ]
  },
  {
   "cell_type": "markdown",
   "metadata": {},
   "source": [
    "We can see that multiple columns have nan values in the dataframe. We will replace all nan values using the **mean replacement method**.\n"
   ]
  },
  {
   "cell_type": "code",
   "execution_count": 27,
   "metadata": {},
   "outputs": [],
   "source": [
    "def replace_nan_with_mean(df, column):\n",
    "  df[column].fillna(df[column].mean(), inplace=True)"
   ]
  },
  {
   "cell_type": "code",
   "execution_count": 28,
   "metadata": {},
   "outputs": [],
   "source": [
    "# for column in data.columns:\n",
    "#   _  = replace_nan_with_mean(data, column)\n",
    "# data.info()"
   ]
  },
  {
   "cell_type": "markdown",
   "metadata": {},
   "source": [
    "To reduce the effect of outliers, you will [winsorize](https://en.wikipedia.org/wiki/Winsorizing) the data. Winzorize from both sides at the top 1% the following variables:\n",
    "\n",
    "* `valence_neg`\n",
    "* `valence_neu`\n",
    "* `valence_pos`\n",
    "* `barbera_std`\n",
    "* `politics_sites1_std`\n",
    "* `politics_sites2_ideo_std`\n",
    "\n",
    "The `valence_*`, variables were calculated using VADER (<https://doi.org/10.1609/icwsm.v8i1.14550>). The `barbera_std` variable was calculated based on the work of Barbera et al. (<https://doi.org/10.1177/0956797615594620>)."
   ]
  },
  {
   "cell_type": "markdown",
   "metadata": {},
   "source": [
    "Winsorize the upper side of the following  variables at the top 1%:\n",
    "\n",
    "* `moral_outrage`\n",
    "* `rewire_abuse`\n",
    "* `rewire_hate`\n",
    "* `rewire_profanity`\n",
    "* `rewire_violent`\n",
    "* `rewire_sexually_explicit`\n",
    "* `jigsaw_toxicity`\n",
    "* `jigsaw_severe_toxicity`\n",
    "* `jigsaw_idenity_attack`\n",
    "* `jigsaw_insult`\n",
    "* `jigsaw_profanity`\n",
    "* `jigsaw_threat`\n",
    "\n",
    "The `moral_outrage` variable was calculated based on the work of Brady et al. (<https://doi.org/doi:10.1126/sciadv.abe5641>). The `rewire_*` variables were calculated using the Rewire Online API (acquired by ActiveFence in 2023)., The `jigsaw_*` variables were calculated using the Google Jigsaw Perspective API (<https://jigsaw.google.com/>, <https://perspectiveapi.com/>)."
   ]
  },
  {
   "cell_type": "markdown",
   "metadata": {},
   "source": [
    "You will derive and use a single PCA component, `pc1_misinfo`, for low quality news sharing, that is, the variables:\n",
    "\n",
    "* `lowqual_pr2019_fc`\n",
    "* `lowqual_afm`\n",
    "* `lowqual_lasser2019`\n",
    "* `lowqual_mbfc`\n",
    "\n",
    "Show the explained variance ratio. Then project the low quality news sharing dimensions to this new dimension."
   ]
  },
  {
   "cell_type": "markdown",
   "metadata": {},
   "source": [
    "We will work in the same way for the political orientation, getting a single PCA component, `pc1_politics`, for the variables:\n",
    "\n",
    "* `politics_hashtag`\n",
    "* `politics_followed`\n",
    "* `politics_sites1`\n",
    "* `politics_sites2`\n",
    "\n",
    "Show the explained variance ratio and project the political orientation dimensions to this new dimension.\n",
    "\n",
    "Introduce a new variable, `extremity`, which is the absolute value of the PCA component you got."
   ]
  },
  {
   "cell_type": "markdown",
   "metadata": {},
   "source": [
    "Also do the same for `log_followers`, `log_friends`, `log_fol`, producing `pc1_fol`."
   ]
  },
  {
   "cell_type": "markdown",
   "metadata": {},
   "source": [
    "Regarding the harmful language variables, perform PCA for *three* components, `pc1_harmful_language`, `pc2_harmful_language`, `pc3_harmful_language`, on the winsorized data of:\n",
    "\n",
    "* `rewire_abuse`\n",
    "* `rewire_hate`\n",
    "* `rewire_profanity`\n",
    "* `rewire_violent`\n",
    "* `rewire_sexually_explicit`\n",
    "* `jigsaw_toxicity`\n",
    "* `jigsaw_severe_toxicity`\n",
    "* `jigsaw_idenity_attack`\n",
    "* `jigsaw_insult`\n",
    "* `jigsaw_profanity`\n",
    "* `jigsaw_threat`\n",
    "\n",
    "Why use three components instead of one in this case? Try to interpret each of the principal components."
   ]
  },
  {
   "cell_type": "markdown",
   "metadata": {},
   "source": [
    "Return to producing a single PCA component, `pc1_valence`, for the winsorized data of the valence variables:\n",
    "\n",
    "* `valence_neg`\n",
    "* `valence_neu`\n",
    "* `valence_pos`"
   ]
  },
  {
   "cell_type": "markdown",
   "metadata": {},
   "source": [
    "Before proceeding, normalize the independent variables by taking their z-scores. You will use the following z-scored independent variables (winsorized as stated above):\n",
    "\n",
    "* `pc1_politics`\n",
    "* `pc1_misinfo`\n",
    "* `pc1_fol`,\n",
    "* `pc1_harmful_language`\n",
    "* `pc2_harmful_language`\n",
    "* `pc3_harmful_language`\n",
    "* `pc1_valence`\n",
    "* `tweets_in_2wk`\n",
    "* `botsentinel_score`\n",
    "* `extremity`\n",
    "* `w_moral_outrage`\n",
    "* `liwc_political`\n",
    "* `log_freq_pr_1h`\n",
    "* `log_repeated_tweet_count`\n",
    "* `barbera_std`\n",
    "* `politics_sites1_std`\n",
    "* `politics_sites2_ideo_std`"
   ]
  },
  {
   "cell_type": "markdown",
   "metadata": {},
   "source": [
    "Carry out a probit regression to predict suspension.\n",
    "\n",
    "Before going on to interpret your results, perform the [Bonferroni correction](https://en.wikipedia.org/wiki/Bonferroni_correction) and the [Holm-Bonferroni correction](https://en.wikipedia.org/wiki/Holm%E2%80%93Bonferroni_method) correction. The purpose of both of these tests is to reduce the likelihood of false positives (Type I errors) when conducting multiple statistical tests.\n",
    "\n",
    "In the Bonferroni correction, a hypothesis is rejected with an ajustment to the significance level $\\alpha$:\n",
    "\n",
    "$$ p < \\frac{\\alpha}{m} $$\n",
    "\n",
    "which means that the $p$ values are adjusted by:\n",
    "\n",
    "$$ p' = p \\times m $$\n",
    "\n",
    "where $m$ is the number of tests.\n",
    "\n",
    "The Bonferroni-Holm method is less conservative compared to Bonferroni. It sorts the $p$-values in ascending order and compares them to less stringent thresholds:\n",
    "\n",
    "$$ p_i \\le \\frac{\\alpha}{m - i + 1} $$ \n",
    "\n",
    "where $i$ is the $i$-th smallest $p$-value. Starting with the smallest $p$-value, hypotheses are rejected sequentially until a $p$-value fails to meet the threshold. That means that the $p$ values are adjusted by:\n",
    "\n",
    "$$ p'_i = p_i \\times (m - i + 1) $$\n",
    "\n",
    "Holm-Bonferroni applies progressively smaller corrections as it moves through the sorted $p$-values, making it less conservative and less likely to fall into false negatives (Type II errors).\n",
    "\n",
    "Based on the results, do you think that political orientation influences suspension?\n",
    "\n",
    "Do the same analysis using logit regression."
   ]
  },
  {
   "cell_type": "markdown",
   "metadata": {},
   "source": [
    "## Submission Instructions\n",
    "\n",
    "You must submit your assignment as a Jupyter notebook that will contain the full code and documentation of how you solved the questions, and all other necessary files. Your submission must be fully replicable: that is, somebody reading it must be able to do exactly what you did and obtain the same results.\n",
    "\n",
    "The documentation must be at the level where somebody that has some knowledge of Python can understand exactly what you are doing and why. Your output must be as user-friendly as possible. That means that your output tables should not include zillions of columns that are not needed for your analysis."
   ]
  },
  {
   "cell_type": "markdown",
   "metadata": {},
   "source": [
    "## Honor Code\n",
    "\n",
    "You understand that this is an individual assignment, and as such you must carry it out alone. You may seek help on the Internet, on ChatGPT/Gemini/etc., by Googling or searching in StackOverflow for general questions pertaining to the use of Python and pandas libraries and idioms. However, it is not right to ask direct questions that relate to the assignment and where people will actually solve your problem by answering them. You may discuss with your colleagues in order to better understand the questions, if they are not clear enough, but you should not ask them to share their answers with you, or to help you by giving specific advice."
   ]
  }
 ],
 "metadata": {
  "kernelspec": {
   "display_name": "base",
   "language": "python",
   "name": "python3"
  },
  "language_info": {
   "codemirror_mode": {
    "name": "ipython",
    "version": 3
   },
   "file_extension": ".py",
   "mimetype": "text/x-python",
   "name": "python",
   "nbconvert_exporter": "python",
   "pygments_lexer": "ipython3",
   "version": "3.12.3"
  }
 },
 "nbformat": 4,
 "nbformat_minor": 4
}
