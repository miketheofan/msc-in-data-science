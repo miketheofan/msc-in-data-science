{
 "cells": [
  {
   "cell_type": "code",
   "execution_count": 1,
   "id": "2dcfe5a3",
   "metadata": {},
   "outputs": [],
   "source": [
    "import numpy as np"
   ]
  },
  {
   "cell_type": "code",
   "execution_count": 2,
   "id": "4fc6b485",
   "metadata": {},
   "outputs": [],
   "source": [
    "lamp_positions = np.array([\n",
    "        [4.1, 20.4, 4.0],\n",
    "        [14.1, 21.3, 3.5],\n",
    "        [22.6, 17.1, 6.0],\n",
    "        [5.5, 12.3, 4.0],\n",
    "        [12.2, 9.7, 4.0],\n",
    "        [15.3, 13.8, 6.0],\n",
    "        [21.3, 10.5, 5.5],\n",
    "        [3.9, 3.3, 5.0],\n",
    "        [13.1, 4.3, 5.0],\n",
    "        [20.3, 4.2, 4.5]\n",
    "    ])"
   ]
  }
 ],
 "metadata": {
  "kernelspec": {
   "display_name": "Python 3",
   "language": "python",
   "name": "python3"
  },
  "language_info": {
   "codemirror_mode": {
    "name": "ipython",
    "version": 3
   },
   "file_extension": ".py",
   "mimetype": "text/x-python",
   "name": "python",
   "nbconvert_exporter": "python",
   "pygments_lexer": "ipython3",
   "version": "3.9.6"
  }
 },
 "nbformat": 4,
 "nbformat_minor": 5
}
